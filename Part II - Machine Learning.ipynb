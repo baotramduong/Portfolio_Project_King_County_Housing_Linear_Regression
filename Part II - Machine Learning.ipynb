{
 "cells": [
  {
   "cell_type": "code",
   "execution_count": 167,
   "metadata": {},
   "outputs": [],
   "source": [
    "#import all necessary packages\n",
    "import pandas as pd\n",
    "import numpy as np\n",
    "import seaborn as sns\n",
    "import matplotlib.pyplot as plt\n",
    "%matplotlib inline\n",
    "plt.style.use('ggplot')\n",
    "\n",
    "# machine learning\n",
    "import statsmodels.api as sm\n",
    "import statsmodels.stats.api as sms\n",
    "import statsmodels.formula.api as smf\n",
    "from statsmodels.formula.api import ols\n",
    "from statsmodels.tools.tools import add_constant\n",
    "from statsmodels.regression.linear_model import OLS\n",
    "\n",
    "from sklearn.model_selection import train_test_split, cross_validate, GridSearchCV, RandomizedSearchCV\n",
    "from sklearn.metrics import r2_score, mean_absolute_error, make_scorer\n",
    "\n",
    "import scipy.stats as stats"
   ]
  },
  {
   "cell_type": "markdown",
   "metadata": {},
   "source": [
    "Recall that there are four main assumptions underlying a linear regression model:\n",
    "\n",
    "1. **Linearity:** With linear models, the target variable is being modeled as a linear combination of the independent variables. As such, there should be a linear relationship between the target variable and the various features being used. \n",
    "\n",
    "2. **Normality:** With linear models, the errors (residuals) from the model are assumed to be normally distributed. A good heuristic to initially check for this is to use a Q-Q plot.\n",
    "\n",
    "3. **Homoscedasticity:** Along with the assumption of normal distribution, error terms should also not be correlated with the target variable or other features within the model. If errors indeed appear to be random and there are no discernible trends, then the errors are said to be homoscedastic. Looking at a simple plot of residuals against the target variable or other feature is generally sufficient to gauge this.\n",
    "\n",
    "4. **Independence:** Finally, regression models assume that the various independent features feeding into the model are independent. We will investigate multicollinearity. Multicollinearity is when a variable can be predicted with substantial accuracy by a separate set of features. It's unwise to include two features in a regression model that are highly correlated. This mistake will severely impede interpretation as coefficient weights of the model become unstable so it is difficult or impossible to determine which features are most influential."
   ]
  },
  {
   "cell_type": "markdown",
   "metadata": {},
   "source": [
    "# MODEL DATA"
   ]
  },
  {
   "cell_type": "markdown",
   "metadata": {},
   "source": [
    "We checked for linearity in the first part of the project. Now we are checking out the next two assumptions — normality and homoscedasticity. This requires us to first create a regression model because they refer to a model’s residuals rather than its features. \n",
    "\n",
    "This part of the project includes:\n",
    "\n",
    "1. Fitting an initial regression model, and then conducting statistical analyses of the results. We'll take a look at the p-values of the various features and perform some feature selection. We'll test for regression assumptions including normality, heteroscedasticity, and independence. \n",
    "2. From these tests, we'll then refine and improve the model, not just for performance, but for interpretability as well."
   ]
  },
  {
   "cell_type": "markdown",
   "metadata": {},
   "source": [
    "## Fitting an Initial Model"
   ]
  },
  {
   "cell_type": "code",
   "execution_count": 168,
   "metadata": {
    "scrolled": false
   },
   "outputs": [
    {
     "data": {
      "text/html": [
       "<div>\n",
       "<style scoped>\n",
       "    .dataframe tbody tr th:only-of-type {\n",
       "        vertical-align: middle;\n",
       "    }\n",
       "\n",
       "    .dataframe tbody tr th {\n",
       "        vertical-align: top;\n",
       "    }\n",
       "\n",
       "    .dataframe thead th {\n",
       "        text-align: right;\n",
       "    }\n",
       "</style>\n",
       "<table border=\"1\" class=\"dataframe\">\n",
       "  <thead>\n",
       "    <tr style=\"text-align: right;\">\n",
       "      <th></th>\n",
       "      <th>price</th>\n",
       "      <th>bedrooms</th>\n",
       "      <th>bathrooms</th>\n",
       "      <th>grade</th>\n",
       "      <th>sqft_above</th>\n",
       "      <th>sqft_basement</th>\n",
       "      <th>sqft_living15</th>\n",
       "      <th>zip_A</th>\n",
       "      <th>zip_B</th>\n",
       "      <th>zip_C</th>\n",
       "      <th>...</th>\n",
       "      <th>floors_1.5</th>\n",
       "      <th>floors_2.0</th>\n",
       "      <th>floors_2.5</th>\n",
       "      <th>floors_3.0</th>\n",
       "      <th>floors_3.5</th>\n",
       "      <th>water_1.0</th>\n",
       "      <th>cond_2.0</th>\n",
       "      <th>cond_3.0</th>\n",
       "      <th>cond_4.0</th>\n",
       "      <th>cond_5.0</th>\n",
       "    </tr>\n",
       "  </thead>\n",
       "  <tbody>\n",
       "    <tr>\n",
       "      <th>15937</th>\n",
       "      <td>268950.0</td>\n",
       "      <td>3</td>\n",
       "      <td>1.00</td>\n",
       "      <td>6</td>\n",
       "      <td>880</td>\n",
       "      <td>440.0</td>\n",
       "      <td>1000</td>\n",
       "      <td>0</td>\n",
       "      <td>0</td>\n",
       "      <td>0</td>\n",
       "      <td>...</td>\n",
       "      <td>0</td>\n",
       "      <td>0</td>\n",
       "      <td>0</td>\n",
       "      <td>0</td>\n",
       "      <td>0</td>\n",
       "      <td>0</td>\n",
       "      <td>0</td>\n",
       "      <td>1</td>\n",
       "      <td>0</td>\n",
       "      <td>0</td>\n",
       "    </tr>\n",
       "    <tr>\n",
       "      <th>20963</th>\n",
       "      <td>399900.0</td>\n",
       "      <td>2</td>\n",
       "      <td>1.75</td>\n",
       "      <td>9</td>\n",
       "      <td>900</td>\n",
       "      <td>510.0</td>\n",
       "      <td>1440</td>\n",
       "      <td>0</td>\n",
       "      <td>0</td>\n",
       "      <td>0</td>\n",
       "      <td>...</td>\n",
       "      <td>1</td>\n",
       "      <td>0</td>\n",
       "      <td>0</td>\n",
       "      <td>0</td>\n",
       "      <td>0</td>\n",
       "      <td>0</td>\n",
       "      <td>0</td>\n",
       "      <td>1</td>\n",
       "      <td>0</td>\n",
       "      <td>0</td>\n",
       "    </tr>\n",
       "    <tr>\n",
       "      <th>7614</th>\n",
       "      <td>339000.0</td>\n",
       "      <td>3</td>\n",
       "      <td>1.00</td>\n",
       "      <td>7</td>\n",
       "      <td>720</td>\n",
       "      <td>380.0</td>\n",
       "      <td>1510</td>\n",
       "      <td>1</td>\n",
       "      <td>0</td>\n",
       "      <td>0</td>\n",
       "      <td>...</td>\n",
       "      <td>0</td>\n",
       "      <td>0</td>\n",
       "      <td>0</td>\n",
       "      <td>0</td>\n",
       "      <td>0</td>\n",
       "      <td>0</td>\n",
       "      <td>0</td>\n",
       "      <td>0</td>\n",
       "      <td>1</td>\n",
       "      <td>0</td>\n",
       "    </tr>\n",
       "    <tr>\n",
       "      <th>3257</th>\n",
       "      <td>380000.0</td>\n",
       "      <td>2</td>\n",
       "      <td>1.00</td>\n",
       "      <td>7</td>\n",
       "      <td>840</td>\n",
       "      <td>200.0</td>\n",
       "      <td>1930</td>\n",
       "      <td>1</td>\n",
       "      <td>0</td>\n",
       "      <td>0</td>\n",
       "      <td>...</td>\n",
       "      <td>0</td>\n",
       "      <td>0</td>\n",
       "      <td>0</td>\n",
       "      <td>0</td>\n",
       "      <td>0</td>\n",
       "      <td>0</td>\n",
       "      <td>0</td>\n",
       "      <td>0</td>\n",
       "      <td>0</td>\n",
       "      <td>1</td>\n",
       "    </tr>\n",
       "    <tr>\n",
       "      <th>16723</th>\n",
       "      <td>365000.0</td>\n",
       "      <td>5</td>\n",
       "      <td>2.00</td>\n",
       "      <td>7</td>\n",
       "      <td>1600</td>\n",
       "      <td>0.0</td>\n",
       "      <td>1190</td>\n",
       "      <td>1</td>\n",
       "      <td>0</td>\n",
       "      <td>0</td>\n",
       "      <td>...</td>\n",
       "      <td>1</td>\n",
       "      <td>0</td>\n",
       "      <td>0</td>\n",
       "      <td>0</td>\n",
       "      <td>0</td>\n",
       "      <td>0</td>\n",
       "      <td>0</td>\n",
       "      <td>1</td>\n",
       "      <td>0</td>\n",
       "      <td>0</td>\n",
       "    </tr>\n",
       "  </tbody>\n",
       "</table>\n",
       "<p>5 rows × 26 columns</p>\n",
       "</div>"
      ],
      "text/plain": [
       "          price  bedrooms  bathrooms  grade  sqft_above  sqft_basement  \\\n",
       "15937  268950.0         3       1.00      6         880          440.0   \n",
       "20963  399900.0         2       1.75      9         900          510.0   \n",
       "7614   339000.0         3       1.00      7         720          380.0   \n",
       "3257   380000.0         2       1.00      7         840          200.0   \n",
       "16723  365000.0         5       2.00      7        1600            0.0   \n",
       "\n",
       "       sqft_living15  zip_A  zip_B  zip_C  ...  floors_1.5  floors_2.0  \\\n",
       "15937           1000      0      0      0  ...           0           0   \n",
       "20963           1440      0      0      0  ...           1           0   \n",
       "7614            1510      1      0      0  ...           0           0   \n",
       "3257            1930      1      0      0  ...           0           0   \n",
       "16723           1190      1      0      0  ...           1           0   \n",
       "\n",
       "       floors_2.5  floors_3.0  floors_3.5  water_1.0  cond_2.0  cond_3.0  \\\n",
       "15937           0           0           0          0         0         1   \n",
       "20963           0           0           0          0         0         1   \n",
       "7614            0           0           0          0         0         0   \n",
       "3257            0           0           0          0         0         0   \n",
       "16723           0           0           0          0         0         1   \n",
       "\n",
       "       cond_4.0  cond_5.0  \n",
       "15937         0         0  \n",
       "20963         0         0  \n",
       "7614          1         0  \n",
       "3257          0         1  \n",
       "16723         0         0  \n",
       "\n",
       "[5 rows x 26 columns]"
      ]
     },
     "execution_count": 168,
     "metadata": {},
     "output_type": "execute_result"
    }
   ],
   "source": [
    "#read our dataframe\n",
    "preprocessed = pd.read_csv('./Data & Figures/preprocessed.csv', index_col = 0)\n",
    "preprocessed.head()"
   ]
  },
  {
   "cell_type": "code",
   "execution_count": 169,
   "metadata": {},
   "outputs": [
    {
     "data": {
      "text/plain": [
       "Index(['price', 'bedrooms', 'bathrooms', 'grade', 'sqft_above',\n",
       "       'sqft_basement', 'sqft_living15', 'zip_A', 'zip_B', 'zip_C', 'zip_D',\n",
       "       'zip_E', 'zip_F', 'zip_G', 'zip_H', 'zip_I', 'floors_1.5', 'floors_2.0',\n",
       "       'floors_2.5', 'floors_3.0', 'floors_3.5', 'water_1.0', 'cond_2.0',\n",
       "       'cond_3.0', 'cond_4.0', 'cond_5.0'],\n",
       "      dtype='object')"
      ]
     },
     "execution_count": 169,
     "metadata": {},
     "output_type": "execute_result"
    }
   ],
   "source": [
    "preprocessed.columns"
   ]
  },
  {
   "cell_type": "code",
   "execution_count": 170,
   "metadata": {},
   "outputs": [],
   "source": [
    "features = ['price', 'bedrooms', 'bathrooms', 'grade', 'sqft_above',\n",
    "       'sqft_basement', 'sqft_living15', 'zip_A', 'zip_B', 'zip_C', 'zip_D',\n",
    "       'zip_E', 'zip_F', 'zip_G', 'zip_H', 'zip_I', 'floors_1.5', 'floors_2.0',\n",
    "       'floors_2.5', 'floors_3.0', 'floors_3.5', 'water_1.0', 'cond_2.0',\n",
    "       'cond_3.0', 'cond_4.0', 'cond_5.0']"
   ]
  },
  {
   "cell_type": "markdown",
   "metadata": {},
   "source": [
    "### Perform Stepwise Selection"
   ]
  },
  {
   "cell_type": "code",
   "execution_count": 171,
   "metadata": {},
   "outputs": [],
   "source": [
    "#perform stepwise selection to ensure that we do not include any features with p-values of above 0.05.\n",
    "def stepwise_selection(X, y, \n",
    "                       initial_list=[], \n",
    "                       threshold_in=0.01, \n",
    "                       threshold_out = 0.05, \n",
    "                       verbose=True):\n",
    "    \"\"\" \n",
    "    Perform a forward-backward feature selection \n",
    "    based on p-value from statsmodels.api.OLS\n",
    "    Arguments:\n",
    "        X - pandas.DataFrame with candidate features\n",
    "        y - list-like with the target\n",
    "        initial_list - list of features to start with (column names of X)\n",
    "        threshold_in - include a feature if its p-value < threshold_in\n",
    "        threshold_out - exclude a feature if its p-value > threshold_out\n",
    "        verbose - whether to print the sequence of inclusions and exclusions\n",
    "    Returns: list of selected features \n",
    "    Always set threshold_in < threshold_out to avoid infinite looping.\n",
    "    See https://en.wikipedia.org/wiki/Stepwise_regression for the details\n",
    "    \"\"\"\n",
    "    \n",
    "    included = list(initial_list)\n",
    "    while True:\n",
    "        changed=False\n",
    "        # forward step\n",
    "        excluded = list(set(X.columns)-set(included))\n",
    "        new_pval = pd.Series(index=excluded)\n",
    "        for new_column in excluded:\n",
    "            model = sm.OLS(y, sm.add_constant(pd.DataFrame(X[included+[new_column]]))).fit()\n",
    "            new_pval[new_column] = model.pvalues[new_column]\n",
    "        best_pval = new_pval.min()\n",
    "        if best_pval < threshold_in:\n",
    "            best_feature = new_pval.idxmin()\n",
    "            included.append(best_feature)\n",
    "            changed=True\n",
    "            if verbose:\n",
    "                print('Add  {:30} with p-value {:.6}'.format(best_feature, best_pval))\n",
    "\n",
    "        # backward step\n",
    "        model = sm.OLS(y, sm.add_constant(pd.DataFrame(X[included]))).fit()\n",
    "        # use all coefs except intercept\n",
    "        pvalues = model.pvalues.iloc[1:]\n",
    "        worst_pval = pvalues.max() # null if pvalues is empty\n",
    "        if worst_pval > threshold_out:\n",
    "            changed=True\n",
    "            worst_feature = pvalues.argmax()\n",
    "            included.remove(worst_feature)\n",
    "            if verbose:\n",
    "                print('Drop {:30} with p-value {:.6}'.format(worst_feature, worst_pval))\n",
    "        if not changed:\n",
    "            break\n",
    "    return included"
   ]
  },
  {
   "cell_type": "code",
   "execution_count": 172,
   "metadata": {},
   "outputs": [
    {
     "name": "stderr",
     "output_type": "stream",
     "text": [
      "<ipython-input-171-4d1c4df4fb84>:27: DeprecationWarning: The default dtype for empty Series will be 'object' instead of 'float64' in a future version. Specify a dtype explicitly to silence this warning.\n",
      "  new_pval = pd.Series(index=excluded)\n",
      "<ipython-input-171-4d1c4df4fb84>:27: DeprecationWarning: The default dtype for empty Series will be 'object' instead of 'float64' in a future version. Specify a dtype explicitly to silence this warning.\n",
      "  new_pval = pd.Series(index=excluded)\n",
      "<ipython-input-171-4d1c4df4fb84>:27: DeprecationWarning: The default dtype for empty Series will be 'object' instead of 'float64' in a future version. Specify a dtype explicitly to silence this warning.\n",
      "  new_pval = pd.Series(index=excluded)\n"
     ]
    },
    {
     "name": "stdout",
     "output_type": "stream",
     "text": [
      "Add  grade                          with p-value 0.0\n",
      "Add  water_1.0                      with p-value 0.0\n",
      "Add  zip_A                          with p-value 0.0\n"
     ]
    },
    {
     "name": "stderr",
     "output_type": "stream",
     "text": [
      "<ipython-input-171-4d1c4df4fb84>:27: DeprecationWarning: The default dtype for empty Series will be 'object' instead of 'float64' in a future version. Specify a dtype explicitly to silence this warning.\n",
      "  new_pval = pd.Series(index=excluded)\n",
      "<ipython-input-171-4d1c4df4fb84>:27: DeprecationWarning: The default dtype for empty Series will be 'object' instead of 'float64' in a future version. Specify a dtype explicitly to silence this warning.\n",
      "  new_pval = pd.Series(index=excluded)\n"
     ]
    },
    {
     "name": "stdout",
     "output_type": "stream",
     "text": [
      "Add  zip_C                          with p-value 0.0\n",
      "Add  sqft_above                     with p-value 0.0\n"
     ]
    },
    {
     "name": "stderr",
     "output_type": "stream",
     "text": [
      "<ipython-input-171-4d1c4df4fb84>:27: DeprecationWarning: The default dtype for empty Series will be 'object' instead of 'float64' in a future version. Specify a dtype explicitly to silence this warning.\n",
      "  new_pval = pd.Series(index=excluded)\n",
      "<ipython-input-171-4d1c4df4fb84>:27: DeprecationWarning: The default dtype for empty Series will be 'object' instead of 'float64' in a future version. Specify a dtype explicitly to silence this warning.\n",
      "  new_pval = pd.Series(index=excluded)\n"
     ]
    },
    {
     "name": "stdout",
     "output_type": "stream",
     "text": [
      "Add  sqft_basement                  with p-value 0.0\n",
      "Add  zip_B                          with p-value 9.63715e-226\n"
     ]
    },
    {
     "name": "stderr",
     "output_type": "stream",
     "text": [
      "<ipython-input-171-4d1c4df4fb84>:27: DeprecationWarning: The default dtype for empty Series will be 'object' instead of 'float64' in a future version. Specify a dtype explicitly to silence this warning.\n",
      "  new_pval = pd.Series(index=excluded)\n",
      "<ipython-input-171-4d1c4df4fb84>:27: DeprecationWarning: The default dtype for empty Series will be 'object' instead of 'float64' in a future version. Specify a dtype explicitly to silence this warning.\n",
      "  new_pval = pd.Series(index=excluded)\n"
     ]
    },
    {
     "name": "stdout",
     "output_type": "stream",
     "text": [
      "Add  sqft_living15                  with p-value 3.08946e-101\n",
      "Add  cond_3.0                       with p-value 5.59705e-86\n"
     ]
    },
    {
     "name": "stderr",
     "output_type": "stream",
     "text": [
      "<ipython-input-171-4d1c4df4fb84>:27: DeprecationWarning: The default dtype for empty Series will be 'object' instead of 'float64' in a future version. Specify a dtype explicitly to silence this warning.\n",
      "  new_pval = pd.Series(index=excluded)\n",
      "<ipython-input-171-4d1c4df4fb84>:27: DeprecationWarning: The default dtype for empty Series will be 'object' instead of 'float64' in a future version. Specify a dtype explicitly to silence this warning.\n",
      "  new_pval = pd.Series(index=excluded)\n"
     ]
    },
    {
     "name": "stdout",
     "output_type": "stream",
     "text": [
      "Add  zip_G                          with p-value 2.127e-87\n",
      "Add  bedrooms                       with p-value 1.58466e-52\n"
     ]
    },
    {
     "name": "stderr",
     "output_type": "stream",
     "text": [
      "<ipython-input-171-4d1c4df4fb84>:27: DeprecationWarning: The default dtype for empty Series will be 'object' instead of 'float64' in a future version. Specify a dtype explicitly to silence this warning.\n",
      "  new_pval = pd.Series(index=excluded)\n",
      "<ipython-input-171-4d1c4df4fb84>:27: DeprecationWarning: The default dtype for empty Series will be 'object' instead of 'float64' in a future version. Specify a dtype explicitly to silence this warning.\n",
      "  new_pval = pd.Series(index=excluded)\n"
     ]
    },
    {
     "name": "stdout",
     "output_type": "stream",
     "text": [
      "Add  floors_2.0                     with p-value 5.64044e-44\n",
      "Add  zip_F                          with p-value 2.23811e-42\n"
     ]
    },
    {
     "name": "stderr",
     "output_type": "stream",
     "text": [
      "<ipython-input-171-4d1c4df4fb84>:27: DeprecationWarning: The default dtype for empty Series will be 'object' instead of 'float64' in a future version. Specify a dtype explicitly to silence this warning.\n",
      "  new_pval = pd.Series(index=excluded)\n",
      "<ipython-input-171-4d1c4df4fb84>:27: DeprecationWarning: The default dtype for empty Series will be 'object' instead of 'float64' in a future version. Specify a dtype explicitly to silence this warning.\n",
      "  new_pval = pd.Series(index=excluded)\n"
     ]
    },
    {
     "name": "stdout",
     "output_type": "stream",
     "text": [
      "Add  cond_5.0                       with p-value 4.13846e-22\n",
      "Add  zip_E                          with p-value 5.16605e-19\n"
     ]
    },
    {
     "name": "stderr",
     "output_type": "stream",
     "text": [
      "<ipython-input-171-4d1c4df4fb84>:27: DeprecationWarning: The default dtype for empty Series will be 'object' instead of 'float64' in a future version. Specify a dtype explicitly to silence this warning.\n",
      "  new_pval = pd.Series(index=excluded)\n",
      "<ipython-input-171-4d1c4df4fb84>:27: DeprecationWarning: The default dtype for empty Series will be 'object' instead of 'float64' in a future version. Specify a dtype explicitly to silence this warning.\n",
      "  new_pval = pd.Series(index=excluded)\n"
     ]
    },
    {
     "name": "stdout",
     "output_type": "stream",
     "text": [
      "Add  zip_I                          with p-value 6.27568e-23\n",
      "Add  floors_1.5                     with p-value 1.87637e-14\n"
     ]
    },
    {
     "name": "stderr",
     "output_type": "stream",
     "text": [
      "<ipython-input-171-4d1c4df4fb84>:27: DeprecationWarning: The default dtype for empty Series will be 'object' instead of 'float64' in a future version. Specify a dtype explicitly to silence this warning.\n",
      "  new_pval = pd.Series(index=excluded)\n",
      "<ipython-input-171-4d1c4df4fb84>:27: DeprecationWarning: The default dtype for empty Series will be 'object' instead of 'float64' in a future version. Specify a dtype explicitly to silence this warning.\n",
      "  new_pval = pd.Series(index=excluded)\n"
     ]
    },
    {
     "name": "stdout",
     "output_type": "stream",
     "text": [
      "Add  floors_2.5                     with p-value 4.15382e-13\n",
      "Add  floors_3.0                     with p-value 8.47335e-08\n"
     ]
    },
    {
     "name": "stderr",
     "output_type": "stream",
     "text": [
      "<ipython-input-171-4d1c4df4fb84>:27: DeprecationWarning: The default dtype for empty Series will be 'object' instead of 'float64' in a future version. Specify a dtype explicitly to silence this warning.\n",
      "  new_pval = pd.Series(index=excluded)\n",
      "<ipython-input-171-4d1c4df4fb84>:27: DeprecationWarning: The default dtype for empty Series will be 'object' instead of 'float64' in a future version. Specify a dtype explicitly to silence this warning.\n",
      "  new_pval = pd.Series(index=excluded)\n"
     ]
    },
    {
     "name": "stdout",
     "output_type": "stream",
     "text": [
      "Add  bathrooms                      with p-value 0.00991749\n",
      "resulting features:\n",
      "['grade', 'water_1.0', 'zip_A', 'zip_C', 'sqft_above', 'sqft_basement', 'zip_B', 'sqft_living15', 'cond_3.0', 'zip_G', 'bedrooms', 'floors_2.0', 'zip_F', 'cond_5.0', 'zip_E', 'zip_I', 'floors_1.5', 'floors_2.5', 'floors_3.0', 'bathrooms']\n"
     ]
    }
   ],
   "source": [
    "#apply function\n",
    "X = preprocessed.drop('price', axis=1)\n",
    "y = preprocessed['price']\n",
    "\n",
    "result = stepwise_selection(X, y, verbose = True)\n",
    "print('resulting features:')\n",
    "print(result)"
   ]
  },
  {
   "cell_type": "code",
   "execution_count": 173,
   "metadata": {
    "scrolled": true
   },
   "outputs": [
    {
     "data": {
      "text/html": [
       "<table class=\"simpletable\">\n",
       "<caption>OLS Regression Results</caption>\n",
       "<tr>\n",
       "  <th>Dep. Variable:</th>          <td>price</td>      <th>  R-squared:         </th>  <td>   0.693</td>  \n",
       "</tr>\n",
       "<tr>\n",
       "  <th>Model:</th>                   <td>OLS</td>       <th>  Adj. R-squared:    </th>  <td>   0.693</td>  \n",
       "</tr>\n",
       "<tr>\n",
       "  <th>Method:</th>             <td>Least Squares</td>  <th>  F-statistic:       </th>  <td>   2398.</td>  \n",
       "</tr>\n",
       "<tr>\n",
       "  <th>Date:</th>             <td>Sat, 16 Jan 2021</td> <th>  Prob (F-statistic):</th>   <td>  0.00</td>   \n",
       "</tr>\n",
       "<tr>\n",
       "  <th>Time:</th>                 <td>22:24:00</td>     <th>  Log-Likelihood:    </th> <td>-2.8740e+05</td>\n",
       "</tr>\n",
       "<tr>\n",
       "  <th>No. Observations:</th>      <td> 21229</td>      <th>  AIC:               </th>  <td>5.748e+05</td> \n",
       "</tr>\n",
       "<tr>\n",
       "  <th>Df Residuals:</th>          <td> 21208</td>      <th>  BIC:               </th>  <td>5.750e+05</td> \n",
       "</tr>\n",
       "<tr>\n",
       "  <th>Df Model:</th>              <td>    20</td>      <th>                     </th>      <td> </td>     \n",
       "</tr>\n",
       "<tr>\n",
       "  <th>Covariance Type:</th>      <td>nonrobust</td>    <th>                     </th>      <td> </td>     \n",
       "</tr>\n",
       "</table>\n",
       "<table class=\"simpletable\">\n",
       "<tr>\n",
       "        <td></td>           <th>coef</th>     <th>std err</th>      <th>t</th>      <th>P>|t|</th>  <th>[0.025</th>    <th>0.975]</th>  \n",
       "</tr>\n",
       "<tr>\n",
       "  <th>const</th>         <td> -6.16e+05</td> <td> 1.23e+04</td> <td>  -50.000</td> <td> 0.000</td> <td> -6.4e+05</td> <td>-5.92e+05</td>\n",
       "</tr>\n",
       "<tr>\n",
       "  <th>grade</th>         <td> 8.491e+04</td> <td> 1968.837</td> <td>   43.127</td> <td> 0.000</td> <td> 8.11e+04</td> <td> 8.88e+04</td>\n",
       "</tr>\n",
       "<tr>\n",
       "  <th>water_1.0</th>     <td> 7.334e+05</td> <td> 1.62e+04</td> <td>   45.161</td> <td> 0.000</td> <td> 7.02e+05</td> <td> 7.65e+05</td>\n",
       "</tr>\n",
       "<tr>\n",
       "  <th>zip_A</th>         <td> 2.689e+05</td> <td> 4234.702</td> <td>   63.490</td> <td> 0.000</td> <td> 2.61e+05</td> <td> 2.77e+05</td>\n",
       "</tr>\n",
       "<tr>\n",
       "  <th>zip_C</th>         <td> 2.533e+05</td> <td> 5113.818</td> <td>   49.530</td> <td> 0.000</td> <td> 2.43e+05</td> <td> 2.63e+05</td>\n",
       "</tr>\n",
       "<tr>\n",
       "  <th>sqft_above</th>    <td>  164.2420</td> <td>    3.532</td> <td>   46.497</td> <td> 0.000</td> <td>  157.318</td> <td>  171.166</td>\n",
       "</tr>\n",
       "<tr>\n",
       "  <th>sqft_basement</th> <td>  144.0475</td> <td>    4.100</td> <td>   35.132</td> <td> 0.000</td> <td>  136.011</td> <td>  152.084</td>\n",
       "</tr>\n",
       "<tr>\n",
       "  <th>zip_B</th>         <td> 1.633e+05</td> <td> 4843.803</td> <td>   33.718</td> <td> 0.000</td> <td> 1.54e+05</td> <td> 1.73e+05</td>\n",
       "</tr>\n",
       "<tr>\n",
       "  <th>sqft_living15</th> <td>   60.8468</td> <td>    3.240</td> <td>   18.778</td> <td> 0.000</td> <td>   54.496</td> <td>   67.198</td>\n",
       "</tr>\n",
       "<tr>\n",
       "  <th>cond_3.0</th>      <td>-4.173e+04</td> <td> 3082.338</td> <td>  -13.537</td> <td> 0.000</td> <td>-4.78e+04</td> <td>-3.57e+04</td>\n",
       "</tr>\n",
       "<tr>\n",
       "  <th>zip_G</th>         <td> 1.123e+05</td> <td> 5590.476</td> <td>   20.091</td> <td> 0.000</td> <td> 1.01e+05</td> <td> 1.23e+05</td>\n",
       "</tr>\n",
       "<tr>\n",
       "  <th>bedrooms</th>      <td>-2.836e+04</td> <td> 1853.742</td> <td>  -15.300</td> <td> 0.000</td> <td> -3.2e+04</td> <td>-2.47e+04</td>\n",
       "</tr>\n",
       "<tr>\n",
       "  <th>floors_2.0</th>    <td>-4.426e+04</td> <td> 4008.097</td> <td>  -11.042</td> <td> 0.000</td> <td>-5.21e+04</td> <td>-3.64e+04</td>\n",
       "</tr>\n",
       "<tr>\n",
       "  <th>zip_F</th>         <td>-4.232e+04</td> <td> 5593.152</td> <td>   -7.566</td> <td> 0.000</td> <td>-5.33e+04</td> <td>-3.14e+04</td>\n",
       "</tr>\n",
       "<tr>\n",
       "  <th>cond_5.0</th>      <td>  4.75e+04</td> <td> 5144.307</td> <td>    9.233</td> <td> 0.000</td> <td> 3.74e+04</td> <td> 5.76e+04</td>\n",
       "</tr>\n",
       "<tr>\n",
       "  <th>zip_E</th>         <td> 6.517e+04</td> <td> 6058.690</td> <td>   10.757</td> <td> 0.000</td> <td> 5.33e+04</td> <td>  7.7e+04</td>\n",
       "</tr>\n",
       "<tr>\n",
       "  <th>zip_I</th>         <td> 8.192e+04</td> <td> 8297.296</td> <td>    9.873</td> <td> 0.000</td> <td> 6.57e+04</td> <td> 9.82e+04</td>\n",
       "</tr>\n",
       "<tr>\n",
       "  <th>floors_1.5</th>    <td> 3.623e+04</td> <td> 4896.180</td> <td>    7.399</td> <td> 0.000</td> <td> 2.66e+04</td> <td> 4.58e+04</td>\n",
       "</tr>\n",
       "<tr>\n",
       "  <th>floors_2.5</th>    <td> 1.004e+05</td> <td> 1.54e+04</td> <td>    6.518</td> <td> 0.000</td> <td> 7.02e+04</td> <td> 1.31e+05</td>\n",
       "</tr>\n",
       "<tr>\n",
       "  <th>floors_3.0</th>    <td>-5.052e+04</td> <td> 8645.586</td> <td>   -5.844</td> <td> 0.000</td> <td>-6.75e+04</td> <td>-3.36e+04</td>\n",
       "</tr>\n",
       "<tr>\n",
       "  <th>bathrooms</th>     <td> 7697.6928</td> <td> 2984.845</td> <td>    2.579</td> <td> 0.010</td> <td> 1847.170</td> <td> 1.35e+04</td>\n",
       "</tr>\n",
       "</table>\n",
       "<table class=\"simpletable\">\n",
       "<tr>\n",
       "  <th>Omnibus:</th>       <td>13158.231</td> <th>  Durbin-Watson:     </th>  <td>   1.153</td> \n",
       "</tr>\n",
       "<tr>\n",
       "  <th>Prob(Omnibus):</th>  <td> 0.000</td>   <th>  Jarque-Bera (JB):  </th> <td>315866.326</td>\n",
       "</tr>\n",
       "<tr>\n",
       "  <th>Skew:</th>           <td> 2.566</td>   <th>  Prob(JB):          </th>  <td>    0.00</td> \n",
       "</tr>\n",
       "<tr>\n",
       "  <th>Kurtosis:</th>       <td>21.187</td>   <th>  Cond. No.          </th>  <td>3.66e+04</td> \n",
       "</tr>\n",
       "</table><br/><br/>Notes:<br/>[1] Standard Errors assume that the covariance matrix of the errors is correctly specified.<br/>[2] The condition number is large, 3.66e+04. This might indicate that there are<br/>strong multicollinearity or other numerical problems."
      ],
      "text/plain": [
       "<class 'statsmodels.iolib.summary.Summary'>\n",
       "\"\"\"\n",
       "                            OLS Regression Results                            \n",
       "==============================================================================\n",
       "Dep. Variable:                  price   R-squared:                       0.693\n",
       "Model:                            OLS   Adj. R-squared:                  0.693\n",
       "Method:                 Least Squares   F-statistic:                     2398.\n",
       "Date:                Sat, 16 Jan 2021   Prob (F-statistic):               0.00\n",
       "Time:                        22:24:00   Log-Likelihood:            -2.8740e+05\n",
       "No. Observations:               21229   AIC:                         5.748e+05\n",
       "Df Residuals:                   21208   BIC:                         5.750e+05\n",
       "Df Model:                          20                                         \n",
       "Covariance Type:            nonrobust                                         \n",
       "=================================================================================\n",
       "                    coef    std err          t      P>|t|      [0.025      0.975]\n",
       "---------------------------------------------------------------------------------\n",
       "const          -6.16e+05   1.23e+04    -50.000      0.000    -6.4e+05   -5.92e+05\n",
       "grade          8.491e+04   1968.837     43.127      0.000    8.11e+04    8.88e+04\n",
       "water_1.0      7.334e+05   1.62e+04     45.161      0.000    7.02e+05    7.65e+05\n",
       "zip_A          2.689e+05   4234.702     63.490      0.000    2.61e+05    2.77e+05\n",
       "zip_C          2.533e+05   5113.818     49.530      0.000    2.43e+05    2.63e+05\n",
       "sqft_above      164.2420      3.532     46.497      0.000     157.318     171.166\n",
       "sqft_basement   144.0475      4.100     35.132      0.000     136.011     152.084\n",
       "zip_B          1.633e+05   4843.803     33.718      0.000    1.54e+05    1.73e+05\n",
       "sqft_living15    60.8468      3.240     18.778      0.000      54.496      67.198\n",
       "cond_3.0      -4.173e+04   3082.338    -13.537      0.000   -4.78e+04   -3.57e+04\n",
       "zip_G          1.123e+05   5590.476     20.091      0.000    1.01e+05    1.23e+05\n",
       "bedrooms      -2.836e+04   1853.742    -15.300      0.000    -3.2e+04   -2.47e+04\n",
       "floors_2.0    -4.426e+04   4008.097    -11.042      0.000   -5.21e+04   -3.64e+04\n",
       "zip_F         -4.232e+04   5593.152     -7.566      0.000   -5.33e+04   -3.14e+04\n",
       "cond_5.0        4.75e+04   5144.307      9.233      0.000    3.74e+04    5.76e+04\n",
       "zip_E          6.517e+04   6058.690     10.757      0.000    5.33e+04     7.7e+04\n",
       "zip_I          8.192e+04   8297.296      9.873      0.000    6.57e+04    9.82e+04\n",
       "floors_1.5     3.623e+04   4896.180      7.399      0.000    2.66e+04    4.58e+04\n",
       "floors_2.5     1.004e+05   1.54e+04      6.518      0.000    7.02e+04    1.31e+05\n",
       "floors_3.0    -5.052e+04   8645.586     -5.844      0.000   -6.75e+04   -3.36e+04\n",
       "bathrooms      7697.6928   2984.845      2.579      0.010    1847.170    1.35e+04\n",
       "==============================================================================\n",
       "Omnibus:                    13158.231   Durbin-Watson:                   1.153\n",
       "Prob(Omnibus):                  0.000   Jarque-Bera (JB):           315866.326\n",
       "Skew:                           2.566   Prob(JB):                         0.00\n",
       "Kurtosis:                      21.187   Cond. No.                     3.66e+04\n",
       "==============================================================================\n",
       "\n",
       "Notes:\n",
       "[1] Standard Errors assume that the covariance matrix of the errors is correctly specified.\n",
       "[2] The condition number is large, 3.66e+04. This might indicate that there are\n",
       "strong multicollinearity or other numerical problems.\n",
       "\"\"\""
      ]
     },
     "execution_count": 173,
     "metadata": {},
     "output_type": "execute_result"
    }
   ],
   "source": [
    "#build initial model again in statsmodels\n",
    "import statsmodels.api as sm\n",
    "\n",
    "X_fin = X[result]\n",
    "X_with_intercept = sm.add_constant(X_fin)\n",
    "model = sm.OLS(y,X_with_intercept).fit()\n",
    "model.summary()"
   ]
  },
  {
   "cell_type": "code",
   "execution_count": 174,
   "metadata": {
    "scrolled": false
   },
   "outputs": [
    {
     "data": {
      "text/plain": [
       "array([False, False,  True, False, False, False,  True, False,  True,\n",
       "        True, False,  True, False,  True, False, False, False,  True,\n",
       "        True,  True,  True, False, False, False, False])"
      ]
     },
     "execution_count": 174,
     "metadata": {},
     "output_type": "execute_result"
    }
   ],
   "source": [
    "#feature ranking with recursive feature elimination\n",
    "from sklearn.feature_selection import RFE\n",
    "from sklearn.linear_model import LinearRegression\n",
    "\n",
    "linreg = LinearRegression()\n",
    "selector = RFE(linreg, n_features_to_select = 10)\n",
    "selector = selector.fit(X, y.values.ravel()) # convert y to 1d np array to prevent DataConversionWarning\n",
    "selector.support_"
   ]
  },
  {
   "cell_type": "code",
   "execution_count": 175,
   "metadata": {},
   "outputs": [
    {
     "data": {
      "text/html": [
       "<div>\n",
       "<style scoped>\n",
       "    .dataframe tbody tr th:only-of-type {\n",
       "        vertical-align: middle;\n",
       "    }\n",
       "\n",
       "    .dataframe tbody tr th {\n",
       "        vertical-align: top;\n",
       "    }\n",
       "\n",
       "    .dataframe thead th {\n",
       "        text-align: right;\n",
       "    }\n",
       "</style>\n",
       "<table border=\"1\" class=\"dataframe\">\n",
       "  <thead>\n",
       "    <tr style=\"text-align: right;\">\n",
       "      <th></th>\n",
       "      <th>grade</th>\n",
       "      <th>zip_C</th>\n",
       "      <th>zip_D</th>\n",
       "      <th>zip_F</th>\n",
       "      <th>zip_H</th>\n",
       "      <th>floors_2.5</th>\n",
       "      <th>floors_3.5</th>\n",
       "      <th>water_1.0</th>\n",
       "    </tr>\n",
       "  </thead>\n",
       "  <tbody>\n",
       "    <tr>\n",
       "      <th>15937</th>\n",
       "      <td>6</td>\n",
       "      <td>0</td>\n",
       "      <td>0</td>\n",
       "      <td>0</td>\n",
       "      <td>0</td>\n",
       "      <td>0</td>\n",
       "      <td>0</td>\n",
       "      <td>0</td>\n",
       "    </tr>\n",
       "    <tr>\n",
       "      <th>20963</th>\n",
       "      <td>9</td>\n",
       "      <td>0</td>\n",
       "      <td>0</td>\n",
       "      <td>0</td>\n",
       "      <td>0</td>\n",
       "      <td>0</td>\n",
       "      <td>0</td>\n",
       "      <td>0</td>\n",
       "    </tr>\n",
       "    <tr>\n",
       "      <th>7614</th>\n",
       "      <td>7</td>\n",
       "      <td>0</td>\n",
       "      <td>0</td>\n",
       "      <td>0</td>\n",
       "      <td>0</td>\n",
       "      <td>0</td>\n",
       "      <td>0</td>\n",
       "      <td>0</td>\n",
       "    </tr>\n",
       "    <tr>\n",
       "      <th>3257</th>\n",
       "      <td>7</td>\n",
       "      <td>0</td>\n",
       "      <td>0</td>\n",
       "      <td>0</td>\n",
       "      <td>0</td>\n",
       "      <td>0</td>\n",
       "      <td>0</td>\n",
       "      <td>0</td>\n",
       "    </tr>\n",
       "    <tr>\n",
       "      <th>16723</th>\n",
       "      <td>7</td>\n",
       "      <td>0</td>\n",
       "      <td>0</td>\n",
       "      <td>0</td>\n",
       "      <td>0</td>\n",
       "      <td>0</td>\n",
       "      <td>0</td>\n",
       "      <td>0</td>\n",
       "    </tr>\n",
       "    <tr>\n",
       "      <th>...</th>\n",
       "      <td>...</td>\n",
       "      <td>...</td>\n",
       "      <td>...</td>\n",
       "      <td>...</td>\n",
       "      <td>...</td>\n",
       "      <td>...</td>\n",
       "      <td>...</td>\n",
       "      <td>...</td>\n",
       "    </tr>\n",
       "    <tr>\n",
       "      <th>3553</th>\n",
       "      <td>7</td>\n",
       "      <td>0</td>\n",
       "      <td>0</td>\n",
       "      <td>0</td>\n",
       "      <td>0</td>\n",
       "      <td>0</td>\n",
       "      <td>0</td>\n",
       "      <td>0</td>\n",
       "    </tr>\n",
       "    <tr>\n",
       "      <th>8800</th>\n",
       "      <td>6</td>\n",
       "      <td>0</td>\n",
       "      <td>0</td>\n",
       "      <td>0</td>\n",
       "      <td>0</td>\n",
       "      <td>0</td>\n",
       "      <td>0</td>\n",
       "      <td>0</td>\n",
       "    </tr>\n",
       "    <tr>\n",
       "      <th>8404</th>\n",
       "      <td>7</td>\n",
       "      <td>0</td>\n",
       "      <td>0</td>\n",
       "      <td>0</td>\n",
       "      <td>0</td>\n",
       "      <td>0</td>\n",
       "      <td>0</td>\n",
       "      <td>0</td>\n",
       "    </tr>\n",
       "    <tr>\n",
       "      <th>6729</th>\n",
       "      <td>8</td>\n",
       "      <td>0</td>\n",
       "      <td>0</td>\n",
       "      <td>0</td>\n",
       "      <td>0</td>\n",
       "      <td>0</td>\n",
       "      <td>0</td>\n",
       "      <td>0</td>\n",
       "    </tr>\n",
       "    <tr>\n",
       "      <th>2495</th>\n",
       "      <td>7</td>\n",
       "      <td>0</td>\n",
       "      <td>0</td>\n",
       "      <td>1</td>\n",
       "      <td>0</td>\n",
       "      <td>0</td>\n",
       "      <td>0</td>\n",
       "      <td>0</td>\n",
       "    </tr>\n",
       "  </tbody>\n",
       "</table>\n",
       "<p>21229 rows × 8 columns</p>\n",
       "</div>"
      ],
      "text/plain": [
       "       grade  zip_C  zip_D  zip_F  zip_H  floors_2.5  floors_3.5  water_1.0\n",
       "15937      6      0      0      0      0           0           0          0\n",
       "20963      9      0      0      0      0           0           0          0\n",
       "7614       7      0      0      0      0           0           0          0\n",
       "3257       7      0      0      0      0           0           0          0\n",
       "16723      7      0      0      0      0           0           0          0\n",
       "...      ...    ...    ...    ...    ...         ...         ...        ...\n",
       "3553       7      0      0      0      0           0           0          0\n",
       "8800       6      0      0      0      0           0           0          0\n",
       "8404       7      0      0      0      0           0           0          0\n",
       "6729       8      0      0      0      0           0           0          0\n",
       "2495       7      0      0      1      0           0           0          0\n",
       "\n",
       "[21229 rows x 8 columns]"
      ]
     },
     "execution_count": 175,
     "metadata": {},
     "output_type": "execute_result"
    }
   ],
   "source": [
    "X[selected_columns]"
   ]
  },
  {
   "cell_type": "code",
   "execution_count": 176,
   "metadata": {},
   "outputs": [
    {
     "data": {
      "text/plain": [
       "LinearRegression()"
      ]
     },
     "execution_count": 176,
     "metadata": {},
     "output_type": "execute_result"
    }
   ],
   "source": [
    "#fit the linear regression model again using the 5 selected columns\n",
    "selected_columns = X.columns[selector.support_ ]\n",
    "linreg.fit(X[selected_columns],y)"
   ]
  },
  {
   "cell_type": "code",
   "execution_count": 177,
   "metadata": {
    "scrolled": true
   },
   "outputs": [
    {
     "data": {
      "text/plain": [
       "array([200704.76717282, 750209.16453097, 501608.61361591, ...,\n",
       "       383872.89962554, 567041.03207825, 203226.4073891 ])"
      ]
     },
     "execution_count": 177,
     "metadata": {},
     "output_type": "execute_result"
    }
   ],
   "source": [
    "#predict yhat using our model\n",
    "yhat = linreg.predict(X[selected_columns])\n",
    "yhat"
   ]
  },
  {
   "cell_type": "code",
   "execution_count": 178,
   "metadata": {
    "scrolled": true
   },
   "outputs": [
    {
     "name": "stdout",
     "output_type": "stream",
     "text": [
      "r_squared: 0.5940813754530198\n",
      "adjusted_r_squared: 0.5938900668355502\n"
     ]
    }
   ],
   "source": [
    "#compute R-squared and contrast them with the R-squared and adjusted R-squared in our statsmodels output using stepwise selection\n",
    "SS_Residual = np.sum((y-yhat)**2)\n",
    "SS_Total = np.sum((y-np.mean(y))**2)\n",
    "r_squared = 1 - (float(SS_Residual))/SS_Total\n",
    "adjusted_r_squared = 1 - (1-r_squared)*(len(y)-1)/(len(y)-X[selected_columns].shape[1]-1)\n",
    "\n",
    "print('r_squared:', r_squared)\n",
    "print('adjusted_r_squared:', adjusted_r_squared)"
   ]
  },
  {
   "cell_type": "markdown",
   "metadata": {},
   "source": [
    "Our r_squared and adjusted_r_squared are very very similar: 59% of the dataset's variation from the mean can be explained by our model."
   ]
  },
  {
   "cell_type": "code",
   "execution_count": 180,
   "metadata": {
    "scrolled": true
   },
   "outputs": [
    {
     "data": {
      "text/plain": [
       "-898304.0275434698"
      ]
     },
     "execution_count": 180,
     "metadata": {},
     "output_type": "execute_result"
    }
   ],
   "source": [
    "linreg.intercept_"
   ]
  },
  {
   "cell_type": "code",
   "execution_count": 181,
   "metadata": {},
   "outputs": [
    {
     "data": {
      "text/plain": [
       "{'bedrooms': 183168.13245271536,\n",
       " 'bathrooms': 117735.71399037297,\n",
       " 'grade': 162124.5116435496,\n",
       " 'sqft_above': -128831.26756013624,\n",
       " 'sqft_basement': -180646.4922364398,\n",
       " 'sqft_living15': -125454.60191972998,\n",
       " 'zip_A': 171231.08847836158,\n",
       " 'zip_B': -144472.01070879534,\n",
       " 'zip_C': 120770.03538696565,\n",
       " 'zip_D': 800308.5878165263}"
      ]
     },
     "execution_count": 181,
     "metadata": {},
     "output_type": "execute_result"
    }
   ],
   "source": [
    "coefficients = dict(zip(X,list(linreg.coef_)))\n",
    "coefficients"
   ]
  },
  {
   "cell_type": "code",
   "execution_count": 182,
   "metadata": {
    "scrolled": false
   },
   "outputs": [
    {
     "data": {
      "text/plain": [
       "['1 Bedrooms: +$0.0',\n",
       " '2 Bedrooms: +$126962.0',\n",
       " '3 Bedrooms: +$201231.0',\n",
       " '4 Bedrooms: +$253925.0',\n",
       " '5 Bedrooms: +$294798.0']"
      ]
     },
     "execution_count": 182,
     "metadata": {},
     "output_type": "execute_result"
    }
   ],
   "source": [
    "['{} Bedrooms: +${}'.format(i, round(coefficients['bedrooms'] * np.log(i), 0))\n",
    " for i in range(1,6)]"
   ]
  },
  {
   "cell_type": "code",
   "execution_count": 185,
   "metadata": {},
   "outputs": [
    {
     "data": {
      "text/plain": [
       "['1 Bathrooms: +$0.0',\n",
       " '2 Bathrooms: +$81608.0',\n",
       " '3 Bathrooms: +$129346.0',\n",
       " '4 Bathrooms: +$163216.0',\n",
       " '5 Bathrooms: +$189488.0']"
      ]
     },
     "execution_count": 185,
     "metadata": {},
     "output_type": "execute_result"
    }
   ],
   "source": [
    "['{} Bathrooms: +${}'.format(i, round(coefficients['bathrooms'] * np.log(i), 0))\n",
    " for i in range(1,6)]"
   ]
  },
  {
   "cell_type": "code",
   "execution_count": 183,
   "metadata": {
    "scrolled": true
   },
   "outputs": [
    {
     "data": {
      "text/plain": [
       "['Grade 5: +$260929.0',\n",
       " 'Grade 6: +$290488.0',\n",
       " 'Grade 7: +$315480.0',\n",
       " 'Grade 8: +$337128.0',\n",
       " 'Grade 9: +$356224.0',\n",
       " 'Grade 10: +$373305.0',\n",
       " 'Grade 11: +$388758.0',\n",
       " 'Grade 12: +$402864.0']"
      ]
     },
     "execution_count": 183,
     "metadata": {},
     "output_type": "execute_result"
    }
   ],
   "source": [
    "['Grade {}: +${}'.format(i, round(coefficients['grade'] * np.log(i), 0))\n",
    " for i in range(5,13)]"
   ]
  },
  {
   "cell_type": "code",
   "execution_count": 186,
   "metadata": {
    "scrolled": true
   },
   "outputs": [
    {
     "data": {
      "text/plain": [
       "['Square Footage Above 5: +$-207346.0',\n",
       " 'Square Footage Above 6: +$-230835.0',\n",
       " 'Square Footage Above 7: +$-250694.0',\n",
       " 'Square Footage Above 8: +$-267897.0',\n",
       " 'Square Footage Above 9: +$-283071.0',\n",
       " 'Square Footage Above 10: +$-296645.0',\n",
       " 'Square Footage Above 11: +$-308924.0',\n",
       " 'Square Footage Above 12: +$-320134.0']"
      ]
     },
     "execution_count": 186,
     "metadata": {},
     "output_type": "execute_result"
    }
   ],
   "source": [
    "['Square Footage Above {}: +${}'.format(i, round(coefficients['sqft_above'] * np.log(i), 0))\n",
    " for i in range(5,13)]"
   ]
  },
  {
   "cell_type": "code",
   "execution_count": 187,
   "metadata": {
    "scrolled": true
   },
   "outputs": [
    {
     "data": {
      "text/plain": [
       "['Square Footage Basement 5: +$-290739.0',\n",
       " 'Square Footage Basement 6: +$-323675.0',\n",
       " 'Square Footage Basement 7: +$-351522.0',\n",
       " 'Square Footage Basement 8: +$-375644.0',\n",
       " 'Square Footage Basement 9: +$-396921.0',\n",
       " 'Square Footage Basement 10: +$-415954.0',\n",
       " 'Square Footage Basement 11: +$-433171.0',\n",
       " 'Square Footage Basement 12: +$-448890.0']"
      ]
     },
     "execution_count": 187,
     "metadata": {},
     "output_type": "execute_result"
    }
   ],
   "source": [
    "['Square Footage Basement {}: +${}'.format(i, round(coefficients['sqft_basement'] * np.log(i), 0))\n",
    " for i in range(5,13)]"
   ]
  },
  {
   "cell_type": "code",
   "execution_count": 188,
   "metadata": {
    "scrolled": false
   },
   "outputs": [
    {
     "data": {
      "text/plain": [
       "['Square Footage Living of the Nearest 15 Neighbors 5: +$-201911.0',\n",
       " 'Square Footage Living of the Nearest 15 Neighbors 6: +$-224784.0',\n",
       " 'Square Footage Living of the Nearest 15 Neighbors 7: +$-244123.0',\n",
       " 'Square Footage Living of the Nearest 15 Neighbors 8: +$-260876.0',\n",
       " 'Square Footage Living of the Nearest 15 Neighbors 9: +$-275652.0',\n",
       " 'Square Footage Living of the Nearest 15 Neighbors 10: +$-288870.0',\n",
       " 'Square Footage Living of the Nearest 15 Neighbors 11: +$-300827.0',\n",
       " 'Square Footage Living of the Nearest 15 Neighbors 12: +$-311743.0']"
      ]
     },
     "execution_count": 188,
     "metadata": {},
     "output_type": "execute_result"
    }
   ],
   "source": [
    "['Square Footage Living of the Nearest 15 Neighbors {}: +${}'.format(i, round(coefficients['sqft_living15'] * np.log(i), 0))\n",
    " for i in range(5,13)]"
   ]
  },
  {
   "cell_type": "markdown",
   "metadata": {},
   "source": [
    "### Test Initial Model"
   ]
  },
  {
   "cell_type": "code",
   "execution_count": 190,
   "metadata": {},
   "outputs": [
    {
     "data": {
      "text/plain": [
       "LinearRegression()"
      ]
     },
     "execution_count": 190,
     "metadata": {},
     "output_type": "execute_result"
    }
   ],
   "source": [
    "#fit the linear regression model again using the selected columns\n",
    "selected_columns = X.columns[selector.support_ ]\n",
    "linreg.fit(X[selected_columns],y)"
   ]
  },
  {
   "cell_type": "code",
   "execution_count": 191,
   "metadata": {},
   "outputs": [],
   "source": [
    "#predict yhat using our model\n",
    "yhat = linreg.predict(X[selected_columns])"
   ]
  },
  {
   "cell_type": "code",
   "execution_count": 192,
   "metadata": {
    "scrolled": false
   },
   "outputs": [
    {
     "data": {
      "text/html": [
       "<div>\n",
       "<style scoped>\n",
       "    .dataframe tbody tr th:only-of-type {\n",
       "        vertical-align: middle;\n",
       "    }\n",
       "\n",
       "    .dataframe tbody tr th {\n",
       "        vertical-align: top;\n",
       "    }\n",
       "\n",
       "    .dataframe thead th {\n",
       "        text-align: right;\n",
       "    }\n",
       "</style>\n",
       "<table border=\"1\" class=\"dataframe\">\n",
       "  <thead>\n",
       "    <tr style=\"text-align: right;\">\n",
       "      <th></th>\n",
       "      <th>grade</th>\n",
       "      <th>zip_A</th>\n",
       "      <th>zip_C</th>\n",
       "      <th>zip_D</th>\n",
       "      <th>zip_F</th>\n",
       "      <th>zip_H</th>\n",
       "      <th>floors_2.5</th>\n",
       "      <th>floors_3.0</th>\n",
       "      <th>floors_3.5</th>\n",
       "      <th>water_1.0</th>\n",
       "    </tr>\n",
       "  </thead>\n",
       "  <tbody>\n",
       "    <tr>\n",
       "      <th>15937</th>\n",
       "      <td>6</td>\n",
       "      <td>0</td>\n",
       "      <td>0</td>\n",
       "      <td>0</td>\n",
       "      <td>0</td>\n",
       "      <td>0</td>\n",
       "      <td>0</td>\n",
       "      <td>0</td>\n",
       "      <td>0</td>\n",
       "      <td>0</td>\n",
       "    </tr>\n",
       "    <tr>\n",
       "      <th>20963</th>\n",
       "      <td>9</td>\n",
       "      <td>0</td>\n",
       "      <td>0</td>\n",
       "      <td>0</td>\n",
       "      <td>0</td>\n",
       "      <td>0</td>\n",
       "      <td>0</td>\n",
       "      <td>0</td>\n",
       "      <td>0</td>\n",
       "      <td>0</td>\n",
       "    </tr>\n",
       "    <tr>\n",
       "      <th>7614</th>\n",
       "      <td>7</td>\n",
       "      <td>1</td>\n",
       "      <td>0</td>\n",
       "      <td>0</td>\n",
       "      <td>0</td>\n",
       "      <td>0</td>\n",
       "      <td>0</td>\n",
       "      <td>0</td>\n",
       "      <td>0</td>\n",
       "      <td>0</td>\n",
       "    </tr>\n",
       "    <tr>\n",
       "      <th>3257</th>\n",
       "      <td>7</td>\n",
       "      <td>1</td>\n",
       "      <td>0</td>\n",
       "      <td>0</td>\n",
       "      <td>0</td>\n",
       "      <td>0</td>\n",
       "      <td>0</td>\n",
       "      <td>0</td>\n",
       "      <td>0</td>\n",
       "      <td>0</td>\n",
       "    </tr>\n",
       "    <tr>\n",
       "      <th>16723</th>\n",
       "      <td>7</td>\n",
       "      <td>1</td>\n",
       "      <td>0</td>\n",
       "      <td>0</td>\n",
       "      <td>0</td>\n",
       "      <td>0</td>\n",
       "      <td>0</td>\n",
       "      <td>0</td>\n",
       "      <td>0</td>\n",
       "      <td>0</td>\n",
       "    </tr>\n",
       "    <tr>\n",
       "      <th>...</th>\n",
       "      <td>...</td>\n",
       "      <td>...</td>\n",
       "      <td>...</td>\n",
       "      <td>...</td>\n",
       "      <td>...</td>\n",
       "      <td>...</td>\n",
       "      <td>...</td>\n",
       "      <td>...</td>\n",
       "      <td>...</td>\n",
       "      <td>...</td>\n",
       "    </tr>\n",
       "    <tr>\n",
       "      <th>3553</th>\n",
       "      <td>7</td>\n",
       "      <td>1</td>\n",
       "      <td>0</td>\n",
       "      <td>0</td>\n",
       "      <td>0</td>\n",
       "      <td>0</td>\n",
       "      <td>0</td>\n",
       "      <td>0</td>\n",
       "      <td>0</td>\n",
       "      <td>0</td>\n",
       "    </tr>\n",
       "    <tr>\n",
       "      <th>8800</th>\n",
       "      <td>6</td>\n",
       "      <td>0</td>\n",
       "      <td>0</td>\n",
       "      <td>0</td>\n",
       "      <td>0</td>\n",
       "      <td>0</td>\n",
       "      <td>0</td>\n",
       "      <td>0</td>\n",
       "      <td>0</td>\n",
       "      <td>0</td>\n",
       "    </tr>\n",
       "    <tr>\n",
       "      <th>8404</th>\n",
       "      <td>7</td>\n",
       "      <td>0</td>\n",
       "      <td>0</td>\n",
       "      <td>0</td>\n",
       "      <td>0</td>\n",
       "      <td>0</td>\n",
       "      <td>0</td>\n",
       "      <td>0</td>\n",
       "      <td>0</td>\n",
       "      <td>0</td>\n",
       "    </tr>\n",
       "    <tr>\n",
       "      <th>6729</th>\n",
       "      <td>8</td>\n",
       "      <td>0</td>\n",
       "      <td>0</td>\n",
       "      <td>0</td>\n",
       "      <td>0</td>\n",
       "      <td>0</td>\n",
       "      <td>0</td>\n",
       "      <td>0</td>\n",
       "      <td>0</td>\n",
       "      <td>0</td>\n",
       "    </tr>\n",
       "    <tr>\n",
       "      <th>2495</th>\n",
       "      <td>7</td>\n",
       "      <td>0</td>\n",
       "      <td>0</td>\n",
       "      <td>0</td>\n",
       "      <td>1</td>\n",
       "      <td>0</td>\n",
       "      <td>0</td>\n",
       "      <td>0</td>\n",
       "      <td>0</td>\n",
       "      <td>0</td>\n",
       "    </tr>\n",
       "  </tbody>\n",
       "</table>\n",
       "<p>21229 rows × 10 columns</p>\n",
       "</div>"
      ],
      "text/plain": [
       "       grade  zip_A  zip_C  zip_D  zip_F  zip_H  floors_2.5  floors_3.0  \\\n",
       "15937      6      0      0      0      0      0           0           0   \n",
       "20963      9      0      0      0      0      0           0           0   \n",
       "7614       7      1      0      0      0      0           0           0   \n",
       "3257       7      1      0      0      0      0           0           0   \n",
       "16723      7      1      0      0      0      0           0           0   \n",
       "...      ...    ...    ...    ...    ...    ...         ...         ...   \n",
       "3553       7      1      0      0      0      0           0           0   \n",
       "8800       6      0      0      0      0      0           0           0   \n",
       "8404       7      0      0      0      0      0           0           0   \n",
       "6729       8      0      0      0      0      0           0           0   \n",
       "2495       7      0      0      0      1      0           0           0   \n",
       "\n",
       "       floors_3.5  water_1.0  \n",
       "15937           0          0  \n",
       "20963           0          0  \n",
       "7614            0          0  \n",
       "3257            0          0  \n",
       "16723           0          0  \n",
       "...           ...        ...  \n",
       "3553            0          0  \n",
       "8800            0          0  \n",
       "8404            0          0  \n",
       "6729            0          0  \n",
       "2495            0          0  \n",
       "\n",
       "[21229 rows x 10 columns]"
      ]
     },
     "execution_count": 192,
     "metadata": {},
     "output_type": "execute_result"
    }
   ],
   "source": [
    "#check out selected columns/ features\n",
    "X[selected_columns]"
   ]
  },
  {
   "cell_type": "code",
   "execution_count": 193,
   "metadata": {
    "scrolled": true
   },
   "outputs": [
    {
     "data": {
      "image/png": "[encoded data removed]",
      "text/plain": [
       "<Figure size 576x576 with 1 Axes>"
      ]
     },
     "metadata": {},
     "output_type": "display_data"
    }
   ],
   "source": [
    "plt.figure(figsize = (8,8))\n",
    "\n",
    "plt.scatter(yhat, y, s=2, alpha = 0.3)\n",
    "plt.plot([0,1000000], [0,1000000], color='red', ls='--')\n",
    "\n",
    "plt.xlim(0,1000000)\n",
    "plt.ylim(0,1000000)\n",
    "\n",
    "plt.title('Model Predictions vs. Actual Sale Prices')\n",
    "plt.xlabel('Model Prediction')\n",
    "plt.ylabel('Actual Value');"
   ]
  },
  {
   "cell_type": "markdown",
   "metadata": {},
   "source": [
    "### Validate Initial Model"
   ]
  },
  {
   "cell_type": "code",
   "execution_count": 194,
   "metadata": {},
   "outputs": [
    {
     "name": "stdout",
     "output_type": "stream",
     "text": [
      "15921 15921 5308 5308\n"
     ]
    }
   ],
   "source": [
    "#split the data into training and test sets. Use the default split size\n",
    "from sklearn.model_selection import train_test_split\n",
    "\n",
    "X_train, X_test, y_train, y_test = train_test_split(X, y)\n",
    "print(len(X_train), len(y_train), len(X_test), len(y_test))"
   ]
  },
  {
   "cell_type": "code",
   "execution_count": 195,
   "metadata": {},
   "outputs": [],
   "source": [
    "#import and initialize the linear regression model class\n",
    "from sklearn.linear_model import LinearRegression\n",
    "\n",
    "linreg = LinearRegression()"
   ]
  },
  {
   "cell_type": "code",
   "execution_count": 196,
   "metadata": {},
   "outputs": [
    {
     "data": {
      "text/plain": [
       "LinearRegression()"
      ]
     },
     "execution_count": 196,
     "metadata": {},
     "output_type": "execute_result"
    }
   ],
   "source": [
    "#fit the model to train data\n",
    "linreg.fit(X_train, y_train)"
   ]
  },
  {
   "cell_type": "code",
   "execution_count": 197,
   "metadata": {},
   "outputs": [],
   "source": [
    "#calculate predictions on training and test sets\n",
    "y_hat_train = linreg.predict(X_train)\n",
    "y_hat_test = linreg.predict(X_test)"
   ]
  },
  {
   "cell_type": "code",
   "execution_count": 198,
   "metadata": {},
   "outputs": [],
   "source": [
    "#cbalculate residuals\n",
    "train_residual = y_hat_train - y_train\n",
    "test_residual = y_hat_test - y_test"
   ]
  },
  {
   "cell_type": "code",
   "execution_count": 199,
   "metadata": {},
   "outputs": [
    {
     "name": "stdout",
     "output_type": "stream",
     "text": [
      "34151928532.563366\n",
      "32126333411.1959\n"
     ]
    }
   ],
   "source": [
    "#calculate training and test MSE\n",
    "from sklearn.metrics import mean_squared_error\n",
    "\n",
    "train_mse = mean_squared_error(y_train, y_hat_train)\n",
    "test_mse = mean_squared_error(y_test, y_hat_test)\n",
    "\n",
    "print(train_mse)\n",
    "print(test_mse)"
   ]
  },
  {
   "cell_type": "markdown",
   "metadata": {},
   "source": [
    "### Assessing the Model\n",
    "\n",
    "When performing an initial assessment of the model we focus on a number of different perspectives such as r2 and MSE (mean square error). We want to know the underlying influencers and how those can be adjusted in order to increase or decrease the target 'price'. Such metrics would include p-values associated with the various features, comparing models with features removed and investigating potential multicollinearity in the model."
   ]
  },
  {
   "cell_type": "markdown",
   "metadata": {},
   "source": [
    "### Comments on P-Values\n",
    "\n",
    "Based on the p-values above, you can see that there are a number of extraneous features. Recall that a common significance cutoff is 0.05. The refined model should eliminate these irrelevant features.\n",
    "\n",
    "**Comments:** Note that while the  𝑟2  value did drop, it did so only marginally despite dropping 6/10 of the original features. Additionally, all of the p-values indicate that all of the current features are substantially influential."
   ]
  },
  {
   "cell_type": "markdown",
   "metadata": {},
   "source": [
    "### Additional Assessments and Refinement"
   ]
  },
  {
   "cell_type": "markdown",
   "metadata": {},
   "source": [
    "**Comment:** While the p-values indicate that all of the current features are impactful, the variance inflation factor indicates that there is moderate multicollinearity between our variables. With that, it makes sense to briefly update the features once again and recheck for multicollinearity."
   ]
  },
  {
   "cell_type": "markdown",
   "metadata": {},
   "source": [
    "## Model Refinement 1"
   ]
  },
  {
   "cell_type": "markdown",
   "metadata": {},
   "source": [
    "### Rechecking Normality"
   ]
  },
  {
   "cell_type": "markdown",
   "metadata": {},
   "source": [
    "### Rechecking Homoscedasticity"
   ]
  },
  {
   "cell_type": "markdown",
   "metadata": {},
   "source": [
    "## Model Refinement 2: Interactions"
   ]
  },
  {
   "cell_type": "markdown",
   "metadata": {},
   "source": [
    "# REGRESSION MODEL VALIDATION"
   ]
  },
  {
   "cell_type": "markdown",
   "metadata": {},
   "source": [
    "In order to get a good sense of how well your model will be doing on new instances, you'll have to perform a so-called \"train-test-split\". What you'll be doing here, is take a sample of the data that serves as input to \"train\" our model - fit a linear regression and compute the parameter estimates for our variables, and calculate how well our predictive performance is doing comparing the actual targets  𝑦  and the fitted  𝑦̂   obtained by our model.\n",
    "\n",
    "* Underfitting happens when a model cannot learn the training data, nor can it generalize to new data.\n",
    "* Overfitting happens when a model learns the training data too well. In fact, so well that it is not generalizeable to new data"
   ]
  },
  {
   "cell_type": "markdown",
   "metadata": {},
   "source": [
    "## Train-Test Split"
   ]
  },
  {
   "cell_type": "markdown",
   "metadata": {},
   "source": [
    "To evaluate the model, you'll want to compare your predicted values,  𝑦̂   with the actual value,  𝑦 . The difference between the two values is referred to as the residuals. When using a train-test split, you'll compare your residuals for both test set and training set. To get a summarized measure over all the instances in the test set and training set, a popular metric is the (Root) Mean Squared Error. A big difference in value between the test and training set (R)MSE is an indication of overfitting."
   ]
  },
  {
   "cell_type": "markdown",
   "metadata": {},
   "source": [
    "Look at the residuals and calculate the MSE for training and test sets:"
   ]
  },
  {
   "cell_type": "markdown",
   "metadata": {},
   "source": [
    "## K-Fold Cross Validation"
   ]
  },
  {
   "cell_type": "markdown",
   "metadata": {},
   "source": [
    "In order to deal with the issues that random sampling can introduce into interpreting the quality of our models, we'll use a more advanced technique called K-Fold Cross Validation."
   ]
  },
  {
   "cell_type": "markdown",
   "metadata": {},
   "source": [
    "K-Fold Cross Validation expands on the idea of training and test splits by splitting the entire dataset into {K} equal sections of data. We'll then iteratively train {K} linear regression models on the data, with each linear model using a different section of data as the test set, and all other sections combined as the training set.\n",
    "\n",
    "We can then average the individual results frome each of these linear models to get a Cross-Validation MSE. This will be closer to the model's actual MSE, since \"noisy\" results that are higher than average will cancel out the \"noisy\" results that are lower than average."
   ]
  },
  {
   "cell_type": "markdown",
   "metadata": {},
   "source": [
    "You can easily do this in scikit-learn using cross_val_score(). If you want the mean squared error as an output, you need to set the scoring argument to 'neg_mean_squared_error'"
   ]
  },
  {
   "cell_type": "markdown",
   "metadata": {},
   "source": [
    "## Bias-Variance Tradeoff"
   ]
  },
  {
   "cell_type": "markdown",
   "metadata": {},
   "source": [
    "* Bias arises when wrong assumptions are made when training a model. For example, an interaction effect is missed, or we didn't catch a certain polynomial relationship. Because of this, our algorithm misses the relevant relations between predictors and the target variable. Note how this is similar to underfitting!\n",
    "\n",
    "* Variance arises when a model is too sensitive to small fluctuations in the training set. When variance is high, random noise in the training data is modeled, rather than the intended outputs. This is overfitting!\n",
    "\n",
    "The balance between bias and variance is a trade-off. We can reduce the variance but then there is a risk of running a bigger bias, and vice versa. Bias is usually associated with low model complexity, variance with high model complexity. There is generally a \"sweet spot\" in-between, compromising between bias and variance."
   ]
  },
  {
   "cell_type": "code",
   "execution_count": null,
   "metadata": {},
   "outputs": [],
   "source": []
  }
 ],
 "metadata": {
  "kernelspec": {
   "display_name": "Python 3",
   "language": "python",
   "name": "python3"
  },
  "language_info": {
   "codemirror_mode": {
    "name": "ipython",
    "version": 3
   },
   "file_extension": ".py",
   "mimetype": "text/x-python",
   "name": "python",
   "nbconvert_exporter": "python",
   "pygments_lexer": "ipython3",
   "version": "3.8.5"
  }
 },
 "nbformat": 4,
 "nbformat_minor": 4
}
