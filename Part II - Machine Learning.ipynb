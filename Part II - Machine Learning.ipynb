{
 "cells": [
  {
   "cell_type": "code",
   "execution_count": 659,
   "metadata": {},
   "outputs": [],
   "source": [
    "#import all necessary packages\n",
    "import pandas as pd\n",
    "import numpy as np\n",
    "import seaborn as sns\n",
    "import matplotlib.pyplot as plt\n",
    "%matplotlib inline\n",
    "plt.style.use('ggplot')"
   ]
  },
  {
   "cell_type": "markdown",
   "metadata": {},
   "source": [
    "Recall that there are four main assumptions underlying a linear regression model:\n",
    "\n",
    "1. **Linearity:** With linear models, the target variable is being modeled as a linear combination of the independent variables. As such, there should be a linear relationship between the target variable and the various features being used. \n",
    "\n",
    "2. **Normality:** With linear models, the errors (residuals) from the model are assumed to be normally distributed. A good heuristic to initially check for this is to use a Q-Q plot.\n",
    "\n",
    "3. **Homoscedasticity:** Along with the assumption of normal distribution, error terms should also not be correlated with the target variable or other features within the model. If errors indeed appear to be random and there are no discernible trends, then the errors are said to be homoscedastic. Looking at a simple plot of residuals against the target variable or other feature is generally sufficient to gauge this.\n",
    "\n",
    "4. **Independence:** Finally, regression models assume that the various independent features feeding into the model are independent. We will investigate multicollinearity. Multicollinearity is when a variable can be predicted with substantial accuracy by a separate set of features. It's unwise to include two features in a regression model that are highly correlated. This mistake will severely impede interpretation as coefficient weights of the model become unstable so it is difficult or impossible to determine which features are most influential."
   ]
  },
  {
   "cell_type": "code",
   "execution_count": 660,
   "metadata": {
    "scrolled": false
   },
   "outputs": [
    {
     "data": {
      "text/html": [
       "<div>\n",
       "<style scoped>\n",
       "    .dataframe tbody tr th:only-of-type {\n",
       "        vertical-align: middle;\n",
       "    }\n",
       "\n",
       "    .dataframe tbody tr th {\n",
       "        vertical-align: top;\n",
       "    }\n",
       "\n",
       "    .dataframe thead th {\n",
       "        text-align: right;\n",
       "    }\n",
       "</style>\n",
       "<table border=\"1\" class=\"dataframe\">\n",
       "  <thead>\n",
       "    <tr style=\"text-align: right;\">\n",
       "      <th></th>\n",
       "      <th>price</th>\n",
       "      <th>bedrooms</th>\n",
       "      <th>bathrooms</th>\n",
       "      <th>grade</th>\n",
       "      <th>sqft_above</th>\n",
       "      <th>sqft_living15</th>\n",
       "      <th>basement</th>\n",
       "      <th>renovation</th>\n",
       "      <th>zip_A</th>\n",
       "      <th>zip_B</th>\n",
       "      <th>...</th>\n",
       "      <th>floors_1.5</th>\n",
       "      <th>floors_2.0</th>\n",
       "      <th>floors_2.5</th>\n",
       "      <th>floors_3.0</th>\n",
       "      <th>floors_3.5</th>\n",
       "      <th>water_1.0</th>\n",
       "      <th>cond_2.0</th>\n",
       "      <th>cond_3.0</th>\n",
       "      <th>cond_4.0</th>\n",
       "      <th>cond_5.0</th>\n",
       "    </tr>\n",
       "  </thead>\n",
       "  <tbody>\n",
       "    <tr>\n",
       "      <th>15937</th>\n",
       "      <td>268950.0</td>\n",
       "      <td>3</td>\n",
       "      <td>1.00</td>\n",
       "      <td>6</td>\n",
       "      <td>880</td>\n",
       "      <td>1000</td>\n",
       "      <td>1</td>\n",
       "      <td>0</td>\n",
       "      <td>0</td>\n",
       "      <td>0</td>\n",
       "      <td>...</td>\n",
       "      <td>0</td>\n",
       "      <td>0</td>\n",
       "      <td>0</td>\n",
       "      <td>0</td>\n",
       "      <td>0</td>\n",
       "      <td>0</td>\n",
       "      <td>0</td>\n",
       "      <td>1</td>\n",
       "      <td>0</td>\n",
       "      <td>0</td>\n",
       "    </tr>\n",
       "    <tr>\n",
       "      <th>20963</th>\n",
       "      <td>399900.0</td>\n",
       "      <td>2</td>\n",
       "      <td>1.75</td>\n",
       "      <td>9</td>\n",
       "      <td>900</td>\n",
       "      <td>1440</td>\n",
       "      <td>1</td>\n",
       "      <td>0</td>\n",
       "      <td>0</td>\n",
       "      <td>0</td>\n",
       "      <td>...</td>\n",
       "      <td>1</td>\n",
       "      <td>0</td>\n",
       "      <td>0</td>\n",
       "      <td>0</td>\n",
       "      <td>0</td>\n",
       "      <td>0</td>\n",
       "      <td>0</td>\n",
       "      <td>1</td>\n",
       "      <td>0</td>\n",
       "      <td>0</td>\n",
       "    </tr>\n",
       "    <tr>\n",
       "      <th>7614</th>\n",
       "      <td>339000.0</td>\n",
       "      <td>3</td>\n",
       "      <td>1.00</td>\n",
       "      <td>7</td>\n",
       "      <td>720</td>\n",
       "      <td>1510</td>\n",
       "      <td>1</td>\n",
       "      <td>0</td>\n",
       "      <td>1</td>\n",
       "      <td>0</td>\n",
       "      <td>...</td>\n",
       "      <td>0</td>\n",
       "      <td>0</td>\n",
       "      <td>0</td>\n",
       "      <td>0</td>\n",
       "      <td>0</td>\n",
       "      <td>0</td>\n",
       "      <td>0</td>\n",
       "      <td>0</td>\n",
       "      <td>1</td>\n",
       "      <td>0</td>\n",
       "    </tr>\n",
       "    <tr>\n",
       "      <th>3257</th>\n",
       "      <td>380000.0</td>\n",
       "      <td>2</td>\n",
       "      <td>1.00</td>\n",
       "      <td>7</td>\n",
       "      <td>840</td>\n",
       "      <td>1930</td>\n",
       "      <td>1</td>\n",
       "      <td>0</td>\n",
       "      <td>1</td>\n",
       "      <td>0</td>\n",
       "      <td>...</td>\n",
       "      <td>0</td>\n",
       "      <td>0</td>\n",
       "      <td>0</td>\n",
       "      <td>0</td>\n",
       "      <td>0</td>\n",
       "      <td>0</td>\n",
       "      <td>0</td>\n",
       "      <td>0</td>\n",
       "      <td>0</td>\n",
       "      <td>1</td>\n",
       "    </tr>\n",
       "    <tr>\n",
       "      <th>16723</th>\n",
       "      <td>365000.0</td>\n",
       "      <td>5</td>\n",
       "      <td>2.00</td>\n",
       "      <td>7</td>\n",
       "      <td>1600</td>\n",
       "      <td>1190</td>\n",
       "      <td>0</td>\n",
       "      <td>0</td>\n",
       "      <td>1</td>\n",
       "      <td>0</td>\n",
       "      <td>...</td>\n",
       "      <td>1</td>\n",
       "      <td>0</td>\n",
       "      <td>0</td>\n",
       "      <td>0</td>\n",
       "      <td>0</td>\n",
       "      <td>0</td>\n",
       "      <td>0</td>\n",
       "      <td>1</td>\n",
       "      <td>0</td>\n",
       "      <td>0</td>\n",
       "    </tr>\n",
       "  </tbody>\n",
       "</table>\n",
       "<p>5 rows × 27 columns</p>\n",
       "</div>"
      ],
      "text/plain": [
       "          price  bedrooms  bathrooms  grade  sqft_above  sqft_living15  \\\n",
       "15937  268950.0         3       1.00      6         880           1000   \n",
       "20963  399900.0         2       1.75      9         900           1440   \n",
       "7614   339000.0         3       1.00      7         720           1510   \n",
       "3257   380000.0         2       1.00      7         840           1930   \n",
       "16723  365000.0         5       2.00      7        1600           1190   \n",
       "\n",
       "       basement  renovation  zip_A  zip_B  ...  floors_1.5  floors_2.0  \\\n",
       "15937         1           0      0      0  ...           0           0   \n",
       "20963         1           0      0      0  ...           1           0   \n",
       "7614          1           0      1      0  ...           0           0   \n",
       "3257          1           0      1      0  ...           0           0   \n",
       "16723         0           0      1      0  ...           1           0   \n",
       "\n",
       "       floors_2.5  floors_3.0  floors_3.5  water_1.0  cond_2.0  cond_3.0  \\\n",
       "15937           0           0           0          0         0         1   \n",
       "20963           0           0           0          0         0         1   \n",
       "7614            0           0           0          0         0         0   \n",
       "3257            0           0           0          0         0         0   \n",
       "16723           0           0           0          0         0         1   \n",
       "\n",
       "       cond_4.0  cond_5.0  \n",
       "15937         0         0  \n",
       "20963         0         0  \n",
       "7614          1         0  \n",
       "3257          0         1  \n",
       "16723         0         0  \n",
       "\n",
       "[5 rows x 27 columns]"
      ]
     },
     "execution_count": 660,
     "metadata": {},
     "output_type": "execute_result"
    }
   ],
   "source": [
    "#read our dataframe\n",
    "preprocessed = pd.read_csv('./Data & Figures/preprocessed.csv', index_col = 0)\n",
    "preprocessed.head()"
   ]
  },
  {
   "cell_type": "code",
   "execution_count": 661,
   "metadata": {},
   "outputs": [
    {
     "data": {
      "text/plain": [
       "Index(['price', 'bedrooms', 'bathrooms', 'grade', 'sqft_above',\n",
       "       'sqft_living15', 'basement', 'renovation', 'zip_A', 'zip_B', 'zip_C',\n",
       "       'zip_D', 'zip_E', 'zip_F', 'zip_G', 'zip_H', 'zip_I', 'floors_1.5',\n",
       "       'floors_2.0', 'floors_2.5', 'floors_3.0', 'floors_3.5', 'water_1.0',\n",
       "       'cond_2.0', 'cond_3.0', 'cond_4.0', 'cond_5.0'],\n",
       "      dtype='object')"
      ]
     },
     "execution_count": 661,
     "metadata": {},
     "output_type": "execute_result"
    }
   ],
   "source": [
    "preprocessed.columns"
   ]
  },
  {
   "cell_type": "code",
   "execution_count": 662,
   "metadata": {},
   "outputs": [
    {
     "data": {
      "text/plain": [
       "(21229, 27)"
      ]
     },
     "execution_count": 662,
     "metadata": {},
     "output_type": "execute_result"
    }
   ],
   "source": [
    "preprocessed.shape"
   ]
  },
  {
   "cell_type": "markdown",
   "metadata": {},
   "source": [
    "# FITTING AN INITIAL MODEL: \n",
    "## WITH ALL FEATURES (p_value < 0.05) INCLUDED"
   ]
  },
  {
   "cell_type": "markdown",
   "metadata": {},
   "source": [
    "We checked for linearity in the first part of the project. Now we are checking out the next two assumptions — normality and homoscedasticity. This requires us to first create a regression model because they refer to a model’s residuals rather than its features. \n",
    "\n",
    "This part of the project includes:\n",
    "\n",
    "1. Fitting an initial regression model, and then conducting statistical analyses of the results. We'll take a look at the p-values of the various features and perform some feature selection. We'll test for regression assumptions including normality, heteroscedasticity, and independence. \n",
    "2. From these tests, we'll then refine and improve the model, not just for performance, but for interpretability as well."
   ]
  },
  {
   "cell_type": "code",
   "execution_count": 663,
   "metadata": {},
   "outputs": [],
   "source": [
    "features = ['price', 'bedrooms', 'bathrooms', 'grade', 'sqft_above',\n",
    "       'sqft_living15', 'basement', 'renovation', 'zip_A', 'zip_B', 'zip_C',\n",
    "       'zip_D', 'zip_E', 'zip_F', 'zip_G', 'zip_H', 'zip_I', 'floors_1.5',\n",
    "       'floors_2.0', 'floors_2.5', 'floors_3.0', 'floors_3.5', 'water_1.0',\n",
    "       'cond_2.0', 'cond_3.0', 'cond_4.0', 'cond_5.0']"
   ]
  },
  {
   "cell_type": "markdown",
   "metadata": {},
   "source": [
    "### Perform Stepwise Selection"
   ]
  },
  {
   "cell_type": "code",
   "execution_count": 664,
   "metadata": {},
   "outputs": [],
   "source": [
    "#perform stepwise selection to ensure that we do not include any features with p-values of above 0.05.\n",
    "def stepwise_selection(X, y, \n",
    "                       initial_list=[], \n",
    "                       threshold_in=0.01, \n",
    "                       threshold_out = 0.05, \n",
    "                       verbose=True):\n",
    "    \"\"\" \n",
    "    Perform a forward-backward feature selection \n",
    "    based on p-value from statsmodels.api.OLS\n",
    "    Arguments:\n",
    "        X - pandas.DataFrame with candidate features\n",
    "        y - list-like with the target\n",
    "        initial_list - list of features to start with (column names of X)\n",
    "        threshold_in - include a feature if its p-value < threshold_in\n",
    "        threshold_out - exclude a feature if its p-value > threshold_out\n",
    "        verbose - whether to print the sequence of inclusions and exclusions\n",
    "    Returns: list of selected features \n",
    "    Always set threshold_in < threshold_out to avoid infinite looping.\n",
    "    See https://en.wikipedia.org/wiki/Stepwise_regression for the details\n",
    "    \"\"\"\n",
    "    \n",
    "    included = list(initial_list)\n",
    "    while True:\n",
    "        changed=False\n",
    "        # forward step\n",
    "        excluded = list(set(X.columns)-set(included))\n",
    "        new_pval = pd.Series(index=excluded)\n",
    "        for new_column in excluded:\n",
    "            model = sm.OLS(y, sm.add_constant(pd.DataFrame(X[included+[new_column]]))).fit()\n",
    "            new_pval[new_column] = model.pvalues[new_column]\n",
    "        best_pval = new_pval.min()\n",
    "        if best_pval < threshold_in:\n",
    "            best_feature = new_pval.idxmin()\n",
    "            included.append(best_feature)\n",
    "            changed=True\n",
    "            if verbose:\n",
    "                print('Add  {:30} with p-value {:.6}'.format(best_feature, best_pval))\n",
    "\n",
    "        # backward step\n",
    "        model = sm.OLS(y, sm.add_constant(pd.DataFrame(X[included]))).fit()\n",
    "        # use all coefs except intercept\n",
    "        pvalues = model.pvalues.iloc[1:]\n",
    "        worst_pval = pvalues.max() # null if pvalues is empty\n",
    "        if worst_pval > threshold_out:\n",
    "            changed=True\n",
    "            worst_feature = pvalues.argmax()\n",
    "            included.remove(worst_feature)\n",
    "            if verbose:\n",
    "                print('Drop {:30} with p-value {:.6}'.format(worst_feature, worst_pval))\n",
    "        if not changed:\n",
    "            break\n",
    "    return included"
   ]
  },
  {
   "cell_type": "code",
   "execution_count": 665,
   "metadata": {
    "scrolled": true
   },
   "outputs": [
    {
     "name": "stderr",
     "output_type": "stream",
     "text": [
      "<ipython-input-664-4d1c4df4fb84>:27: DeprecationWarning: The default dtype for empty Series will be 'object' instead of 'float64' in a future version. Specify a dtype explicitly to silence this warning.\n",
      "  new_pval = pd.Series(index=excluded)\n",
      "<ipython-input-664-4d1c4df4fb84>:27: DeprecationWarning: The default dtype for empty Series will be 'object' instead of 'float64' in a future version. Specify a dtype explicitly to silence this warning.\n",
      "  new_pval = pd.Series(index=excluded)\n",
      "<ipython-input-664-4d1c4df4fb84>:27: DeprecationWarning: The default dtype for empty Series will be 'object' instead of 'float64' in a future version. Specify a dtype explicitly to silence this warning.\n",
      "  new_pval = pd.Series(index=excluded)\n"
     ]
    },
    {
     "name": "stdout",
     "output_type": "stream",
     "text": [
      "Add  grade                          with p-value 0.0\n",
      "Add  water_1.0                      with p-value 0.0\n",
      "Add  zip_A                          with p-value 0.0\n"
     ]
    },
    {
     "name": "stderr",
     "output_type": "stream",
     "text": [
      "<ipython-input-664-4d1c4df4fb84>:27: DeprecationWarning: The default dtype for empty Series will be 'object' instead of 'float64' in a future version. Specify a dtype explicitly to silence this warning.\n",
      "  new_pval = pd.Series(index=excluded)\n",
      "<ipython-input-664-4d1c4df4fb84>:27: DeprecationWarning: The default dtype for empty Series will be 'object' instead of 'float64' in a future version. Specify a dtype explicitly to silence this warning.\n",
      "  new_pval = pd.Series(index=excluded)\n"
     ]
    },
    {
     "name": "stdout",
     "output_type": "stream",
     "text": [
      "Add  zip_C                          with p-value 0.0\n",
      "Add  sqft_above                     with p-value 0.0\n"
     ]
    },
    {
     "name": "stderr",
     "output_type": "stream",
     "text": [
      "<ipython-input-664-4d1c4df4fb84>:27: DeprecationWarning: The default dtype for empty Series will be 'object' instead of 'float64' in a future version. Specify a dtype explicitly to silence this warning.\n",
      "  new_pval = pd.Series(index=excluded)\n",
      "<ipython-input-664-4d1c4df4fb84>:27: DeprecationWarning: The default dtype for empty Series will be 'object' instead of 'float64' in a future version. Specify a dtype explicitly to silence this warning.\n",
      "  new_pval = pd.Series(index=excluded)\n"
     ]
    },
    {
     "name": "stdout",
     "output_type": "stream",
     "text": [
      "Add  basement                       with p-value 0.0\n",
      "Add  zip_B                          with p-value 2.64732e-214\n"
     ]
    },
    {
     "name": "stderr",
     "output_type": "stream",
     "text": [
      "<ipython-input-664-4d1c4df4fb84>:27: DeprecationWarning: The default dtype for empty Series will be 'object' instead of 'float64' in a future version. Specify a dtype explicitly to silence this warning.\n",
      "  new_pval = pd.Series(index=excluded)\n",
      "<ipython-input-664-4d1c4df4fb84>:27: DeprecationWarning: The default dtype for empty Series will be 'object' instead of 'float64' in a future version. Specify a dtype explicitly to silence this warning.\n",
      "  new_pval = pd.Series(index=excluded)\n"
     ]
    },
    {
     "name": "stdout",
     "output_type": "stream",
     "text": [
      "Add  sqft_living15                  with p-value 1.44054e-147\n",
      "Add  cond_3.0                       with p-value 1.38419e-113\n"
     ]
    },
    {
     "name": "stderr",
     "output_type": "stream",
     "text": [
      "<ipython-input-664-4d1c4df4fb84>:27: DeprecationWarning: The default dtype for empty Series will be 'object' instead of 'float64' in a future version. Specify a dtype explicitly to silence this warning.\n",
      "  new_pval = pd.Series(index=excluded)\n",
      "<ipython-input-664-4d1c4df4fb84>:27: DeprecationWarning: The default dtype for empty Series will be 'object' instead of 'float64' in a future version. Specify a dtype explicitly to silence this warning.\n",
      "  new_pval = pd.Series(index=excluded)\n"
     ]
    },
    {
     "name": "stdout",
     "output_type": "stream",
     "text": [
      "Add  zip_G                          with p-value 3.24373e-78\n",
      "Add  renovation                     with p-value 3.10409e-79\n"
     ]
    },
    {
     "name": "stderr",
     "output_type": "stream",
     "text": [
      "<ipython-input-664-4d1c4df4fb84>:27: DeprecationWarning: The default dtype for empty Series will be 'object' instead of 'float64' in a future version. Specify a dtype explicitly to silence this warning.\n",
      "  new_pval = pd.Series(index=excluded)\n",
      "<ipython-input-664-4d1c4df4fb84>:27: DeprecationWarning: The default dtype for empty Series will be 'object' instead of 'float64' in a future version. Specify a dtype explicitly to silence this warning.\n",
      "  new_pval = pd.Series(index=excluded)\n"
     ]
    },
    {
     "name": "stdout",
     "output_type": "stream",
     "text": [
      "Add  floors_2.0                     with p-value 4.47219e-70\n",
      "Add  zip_F                          with p-value 1.34749e-43\n"
     ]
    },
    {
     "name": "stderr",
     "output_type": "stream",
     "text": [
      "<ipython-input-664-4d1c4df4fb84>:27: DeprecationWarning: The default dtype for empty Series will be 'object' instead of 'float64' in a future version. Specify a dtype explicitly to silence this warning.\n",
      "  new_pval = pd.Series(index=excluded)\n",
      "<ipython-input-664-4d1c4df4fb84>:27: DeprecationWarning: The default dtype for empty Series will be 'object' instead of 'float64' in a future version. Specify a dtype explicitly to silence this warning.\n",
      "  new_pval = pd.Series(index=excluded)\n"
     ]
    },
    {
     "name": "stdout",
     "output_type": "stream",
     "text": [
      "Add  cond_5.0                       with p-value 2.64881e-29\n",
      "Add  zip_E                          with p-value 8.6401e-19\n"
     ]
    },
    {
     "name": "stderr",
     "output_type": "stream",
     "text": [
      "<ipython-input-664-4d1c4df4fb84>:27: DeprecationWarning: The default dtype for empty Series will be 'object' instead of 'float64' in a future version. Specify a dtype explicitly to silence this warning.\n",
      "  new_pval = pd.Series(index=excluded)\n",
      "<ipython-input-664-4d1c4df4fb84>:27: DeprecationWarning: The default dtype for empty Series will be 'object' instead of 'float64' in a future version. Specify a dtype explicitly to silence this warning.\n",
      "  new_pval = pd.Series(index=excluded)\n"
     ]
    },
    {
     "name": "stdout",
     "output_type": "stream",
     "text": [
      "Add  zip_I                          with p-value 1.61772e-25\n",
      "Add  bedrooms                       with p-value 1.53082e-15\n"
     ]
    },
    {
     "name": "stderr",
     "output_type": "stream",
     "text": [
      "<ipython-input-664-4d1c4df4fb84>:27: DeprecationWarning: The default dtype for empty Series will be 'object' instead of 'float64' in a future version. Specify a dtype explicitly to silence this warning.\n",
      "  new_pval = pd.Series(index=excluded)\n",
      "<ipython-input-664-4d1c4df4fb84>:27: DeprecationWarning: The default dtype for empty Series will be 'object' instead of 'float64' in a future version. Specify a dtype explicitly to silence this warning.\n",
      "  new_pval = pd.Series(index=excluded)\n"
     ]
    },
    {
     "name": "stdout",
     "output_type": "stream",
     "text": [
      "Add  floors_3.0                     with p-value 8.82624e-12\n",
      "Add  bathrooms                      with p-value 5.11575e-11\n"
     ]
    },
    {
     "name": "stderr",
     "output_type": "stream",
     "text": [
      "<ipython-input-664-4d1c4df4fb84>:27: DeprecationWarning: The default dtype for empty Series will be 'object' instead of 'float64' in a future version. Specify a dtype explicitly to silence this warning.\n",
      "  new_pval = pd.Series(index=excluded)\n",
      "<ipython-input-664-4d1c4df4fb84>:27: DeprecationWarning: The default dtype for empty Series will be 'object' instead of 'float64' in a future version. Specify a dtype explicitly to silence this warning.\n",
      "  new_pval = pd.Series(index=excluded)\n"
     ]
    },
    {
     "name": "stdout",
     "output_type": "stream",
     "text": [
      "Add  floors_1.5                     with p-value 1.36239e-05\n",
      "Add  floors_2.5                     with p-value 1.88858e-05\n",
      "resulting features:\n",
      "['grade', 'water_1.0', 'zip_A', 'zip_C', 'sqft_above', 'basement', 'zip_B', 'sqft_living15', 'cond_3.0', 'zip_G', 'renovation', 'floors_2.0', 'zip_F', 'cond_5.0', 'zip_E', 'zip_I', 'bedrooms', 'floors_3.0', 'bathrooms', 'floors_1.5', 'floors_2.5']\n"
     ]
    },
    {
     "name": "stderr",
     "output_type": "stream",
     "text": [
      "<ipython-input-664-4d1c4df4fb84>:27: DeprecationWarning: The default dtype for empty Series will be 'object' instead of 'float64' in a future version. Specify a dtype explicitly to silence this warning.\n",
      "  new_pval = pd.Series(index=excluded)\n"
     ]
    }
   ],
   "source": [
    "#apply function\n",
    "X = preprocessed.drop('price', axis=1)\n",
    "y = preprocessed['price']\n",
    "\n",
    "result = stepwise_selection(X, y, verbose = True)\n",
    "print('resulting features:')\n",
    "print(result)"
   ]
  },
  {
   "cell_type": "markdown",
   "metadata": {},
   "source": [
    "Recall that a common significance cutoff of p-value is 0.05. Our model should eliminate these irrelevant features.\n",
    "\n",
    "**Features that satified p-value requirement:** 'grade', 'water_1.0', 'zip_A', 'zip_C', 'sqft_above', 'sqft_basement', 'zip_B', 'sqft_living15', 'cond_3.0', 'zip_G', 'bedrooms', 'floors_2.0', 'zip_F', 'cond_5.0', 'zip_E', 'zip_I', 'floors_1.5', 'floors_2.5', 'floors_3.0', 'bathrooms'\n",
    "\n",
    "The null hypothesis for multiple regression states that there is no relationship between the chosen features and the target 'price'. All of the above p-values round to 0, which means we can reject the null hypothesis. All of the p-values indicate that all of the current features are substantially influential."
   ]
  },
  {
   "cell_type": "code",
   "execution_count": 666,
   "metadata": {
    "scrolled": true
   },
   "outputs": [
    {
     "data": {
      "text/html": [
       "<table class=\"simpletable\">\n",
       "<caption>OLS Regression Results</caption>\n",
       "<tr>\n",
       "  <th>Dep. Variable:</th>          <td>price</td>      <th>  R-squared:         </th>  <td>   0.689</td>  \n",
       "</tr>\n",
       "<tr>\n",
       "  <th>Model:</th>                   <td>OLS</td>       <th>  Adj. R-squared:    </th>  <td>   0.689</td>  \n",
       "</tr>\n",
       "<tr>\n",
       "  <th>Method:</th>             <td>Least Squares</td>  <th>  F-statistic:       </th>  <td>   2236.</td>  \n",
       "</tr>\n",
       "<tr>\n",
       "  <th>Date:</th>             <td>Mon, 18 Jan 2021</td> <th>  Prob (F-statistic):</th>   <td>  0.00</td>   \n",
       "</tr>\n",
       "<tr>\n",
       "  <th>Time:</th>                 <td>02:48:01</td>     <th>  Log-Likelihood:    </th> <td>-2.8756e+05</td>\n",
       "</tr>\n",
       "<tr>\n",
       "  <th>No. Observations:</th>      <td> 21229</td>      <th>  AIC:               </th>  <td>5.752e+05</td> \n",
       "</tr>\n",
       "<tr>\n",
       "  <th>Df Residuals:</th>          <td> 21207</td>      <th>  BIC:               </th>  <td>5.753e+05</td> \n",
       "</tr>\n",
       "<tr>\n",
       "  <th>Df Model:</th>              <td>    21</td>      <th>                     </th>      <td> </td>     \n",
       "</tr>\n",
       "<tr>\n",
       "  <th>Covariance Type:</th>      <td>nonrobust</td>    <th>                     </th>      <td> </td>     \n",
       "</tr>\n",
       "</table>\n",
       "<table class=\"simpletable\">\n",
       "<tr>\n",
       "        <td></td>           <th>coef</th>     <th>std err</th>      <th>t</th>      <th>P>|t|</th>  <th>[0.025</th>    <th>0.975]</th>  \n",
       "</tr>\n",
       "<tr>\n",
       "  <th>const</th>         <td>-6.946e+05</td> <td>  1.2e+04</td> <td>  -57.751</td> <td> 0.000</td> <td>-7.18e+05</td> <td>-6.71e+05</td>\n",
       "</tr>\n",
       "<tr>\n",
       "  <th>grade</th>         <td> 8.933e+04</td> <td> 1984.232</td> <td>   45.021</td> <td> 0.000</td> <td> 8.54e+04</td> <td> 9.32e+04</td>\n",
       "</tr>\n",
       "<tr>\n",
       "  <th>water_1.0</th>     <td> 7.367e+05</td> <td> 1.64e+04</td> <td>   44.997</td> <td> 0.000</td> <td> 7.05e+05</td> <td> 7.69e+05</td>\n",
       "</tr>\n",
       "<tr>\n",
       "  <th>zip_A</th>         <td> 2.671e+05</td> <td> 4314.559</td> <td>   61.897</td> <td> 0.000</td> <td> 2.59e+05</td> <td> 2.76e+05</td>\n",
       "</tr>\n",
       "<tr>\n",
       "  <th>zip_C</th>         <td> 2.527e+05</td> <td> 5153.256</td> <td>   49.030</td> <td> 0.000</td> <td> 2.43e+05</td> <td> 2.63e+05</td>\n",
       "</tr>\n",
       "<tr>\n",
       "  <th>sqft_above</th>    <td>  150.9939</td> <td>    3.631</td> <td>   41.589</td> <td> 0.000</td> <td>  143.878</td> <td>  158.110</td>\n",
       "</tr>\n",
       "<tr>\n",
       "  <th>basement</th>      <td> 8.377e+04</td> <td> 3496.829</td> <td>   23.956</td> <td> 0.000</td> <td> 7.69e+04</td> <td> 9.06e+04</td>\n",
       "</tr>\n",
       "<tr>\n",
       "  <th>zip_B</th>         <td> 1.622e+05</td> <td> 4881.589</td> <td>   33.219</td> <td> 0.000</td> <td> 1.53e+05</td> <td> 1.72e+05</td>\n",
       "</tr>\n",
       "<tr>\n",
       "  <th>sqft_living15</th> <td>   75.3471</td> <td>    3.221</td> <td>   23.394</td> <td> 0.000</td> <td>   69.034</td> <td>   81.660</td>\n",
       "</tr>\n",
       "<tr>\n",
       "  <th>cond_3.0</th>      <td>-5.038e+04</td> <td> 3107.064</td> <td>  -16.215</td> <td> 0.000</td> <td>-5.65e+04</td> <td>-4.43e+04</td>\n",
       "</tr>\n",
       "<tr>\n",
       "  <th>zip_G</th>         <td> 1.133e+05</td> <td> 5633.630</td> <td>   20.118</td> <td> 0.000</td> <td> 1.02e+05</td> <td> 1.24e+05</td>\n",
       "</tr>\n",
       "<tr>\n",
       "  <th>renovation</th>    <td>  1.27e+05</td> <td> 7097.347</td> <td>   17.896</td> <td> 0.000</td> <td> 1.13e+05</td> <td> 1.41e+05</td>\n",
       "</tr>\n",
       "<tr>\n",
       "  <th>floors_2.0</th>    <td> -6.62e+04</td> <td> 3924.106</td> <td>  -16.870</td> <td> 0.000</td> <td>-7.39e+04</td> <td>-5.85e+04</td>\n",
       "</tr>\n",
       "<tr>\n",
       "  <th>zip_F</th>         <td>-4.245e+04</td> <td> 5635.215</td> <td>   -7.532</td> <td> 0.000</td> <td>-5.35e+04</td> <td>-3.14e+04</td>\n",
       "</tr>\n",
       "<tr>\n",
       "  <th>cond_5.0</th>      <td> 5.627e+04</td> <td> 5179.663</td> <td>   10.864</td> <td> 0.000</td> <td> 4.61e+04</td> <td> 6.64e+04</td>\n",
       "</tr>\n",
       "<tr>\n",
       "  <th>zip_E</th>         <td> 6.657e+04</td> <td> 6107.337</td> <td>   10.899</td> <td> 0.000</td> <td> 5.46e+04</td> <td> 7.85e+04</td>\n",
       "</tr>\n",
       "<tr>\n",
       "  <th>zip_I</th>         <td> 8.442e+04</td> <td> 8359.028</td> <td>   10.099</td> <td> 0.000</td> <td>  6.8e+04</td> <td> 1.01e+05</td>\n",
       "</tr>\n",
       "<tr>\n",
       "  <th>bedrooms</th>      <td>-1.786e+04</td> <td> 1824.429</td> <td>   -9.791</td> <td> 0.000</td> <td>-2.14e+04</td> <td>-1.43e+04</td>\n",
       "</tr>\n",
       "<tr>\n",
       "  <th>floors_3.0</th>    <td>-6.325e+04</td> <td> 8727.523</td> <td>   -7.247</td> <td> 0.000</td> <td>-8.04e+04</td> <td>-4.61e+04</td>\n",
       "</tr>\n",
       "<tr>\n",
       "  <th>bathrooms</th>     <td> 1.919e+04</td> <td> 2987.259</td> <td>    6.425</td> <td> 0.000</td> <td> 1.33e+04</td> <td>  2.5e+04</td>\n",
       "</tr>\n",
       "<tr>\n",
       "  <th>floors_1.5</th>    <td> 2.333e+04</td> <td> 4916.954</td> <td>    4.744</td> <td> 0.000</td> <td> 1.37e+04</td> <td>  3.3e+04</td>\n",
       "</tr>\n",
       "<tr>\n",
       "  <th>floors_2.5</th>    <td> 6.628e+04</td> <td> 1.55e+04</td> <td>    4.279</td> <td> 0.000</td> <td> 3.59e+04</td> <td> 9.66e+04</td>\n",
       "</tr>\n",
       "</table>\n",
       "<table class=\"simpletable\">\n",
       "<tr>\n",
       "  <th>Omnibus:</th>       <td>13456.264</td> <th>  Durbin-Watson:     </th>  <td>   1.175</td> \n",
       "</tr>\n",
       "<tr>\n",
       "  <th>Prob(Omnibus):</th>  <td> 0.000</td>   <th>  Jarque-Bera (JB):  </th> <td>338730.779</td>\n",
       "</tr>\n",
       "<tr>\n",
       "  <th>Skew:</th>           <td> 2.634</td>   <th>  Prob(JB):          </th>  <td>    0.00</td> \n",
       "</tr>\n",
       "<tr>\n",
       "  <th>Kurtosis:</th>       <td>21.846</td>   <th>  Cond. No.          </th>  <td>3.65e+04</td> \n",
       "</tr>\n",
       "</table><br/><br/>Notes:<br/>[1] Standard Errors assume that the covariance matrix of the errors is correctly specified.<br/>[2] The condition number is large, 3.65e+04. This might indicate that there are<br/>strong multicollinearity or other numerical problems."
      ],
      "text/plain": [
       "<class 'statsmodels.iolib.summary.Summary'>\n",
       "\"\"\"\n",
       "                            OLS Regression Results                            \n",
       "==============================================================================\n",
       "Dep. Variable:                  price   R-squared:                       0.689\n",
       "Model:                            OLS   Adj. R-squared:                  0.689\n",
       "Method:                 Least Squares   F-statistic:                     2236.\n",
       "Date:                Mon, 18 Jan 2021   Prob (F-statistic):               0.00\n",
       "Time:                        02:48:01   Log-Likelihood:            -2.8756e+05\n",
       "No. Observations:               21229   AIC:                         5.752e+05\n",
       "Df Residuals:                   21207   BIC:                         5.753e+05\n",
       "Df Model:                          21                                         \n",
       "Covariance Type:            nonrobust                                         \n",
       "=================================================================================\n",
       "                    coef    std err          t      P>|t|      [0.025      0.975]\n",
       "---------------------------------------------------------------------------------\n",
       "const         -6.946e+05    1.2e+04    -57.751      0.000   -7.18e+05   -6.71e+05\n",
       "grade          8.933e+04   1984.232     45.021      0.000    8.54e+04    9.32e+04\n",
       "water_1.0      7.367e+05   1.64e+04     44.997      0.000    7.05e+05    7.69e+05\n",
       "zip_A          2.671e+05   4314.559     61.897      0.000    2.59e+05    2.76e+05\n",
       "zip_C          2.527e+05   5153.256     49.030      0.000    2.43e+05    2.63e+05\n",
       "sqft_above      150.9939      3.631     41.589      0.000     143.878     158.110\n",
       "basement       8.377e+04   3496.829     23.956      0.000    7.69e+04    9.06e+04\n",
       "zip_B          1.622e+05   4881.589     33.219      0.000    1.53e+05    1.72e+05\n",
       "sqft_living15    75.3471      3.221     23.394      0.000      69.034      81.660\n",
       "cond_3.0      -5.038e+04   3107.064    -16.215      0.000   -5.65e+04   -4.43e+04\n",
       "zip_G          1.133e+05   5633.630     20.118      0.000    1.02e+05    1.24e+05\n",
       "renovation      1.27e+05   7097.347     17.896      0.000    1.13e+05    1.41e+05\n",
       "floors_2.0     -6.62e+04   3924.106    -16.870      0.000   -7.39e+04   -5.85e+04\n",
       "zip_F         -4.245e+04   5635.215     -7.532      0.000   -5.35e+04   -3.14e+04\n",
       "cond_5.0       5.627e+04   5179.663     10.864      0.000    4.61e+04    6.64e+04\n",
       "zip_E          6.657e+04   6107.337     10.899      0.000    5.46e+04    7.85e+04\n",
       "zip_I          8.442e+04   8359.028     10.099      0.000     6.8e+04    1.01e+05\n",
       "bedrooms      -1.786e+04   1824.429     -9.791      0.000   -2.14e+04   -1.43e+04\n",
       "floors_3.0    -6.325e+04   8727.523     -7.247      0.000   -8.04e+04   -4.61e+04\n",
       "bathrooms      1.919e+04   2987.259      6.425      0.000    1.33e+04     2.5e+04\n",
       "floors_1.5     2.333e+04   4916.954      4.744      0.000    1.37e+04     3.3e+04\n",
       "floors_2.5     6.628e+04   1.55e+04      4.279      0.000    3.59e+04    9.66e+04\n",
       "==============================================================================\n",
       "Omnibus:                    13456.264   Durbin-Watson:                   1.175\n",
       "Prob(Omnibus):                  0.000   Jarque-Bera (JB):           338730.779\n",
       "Skew:                           2.634   Prob(JB):                         0.00\n",
       "Kurtosis:                      21.846   Cond. No.                     3.65e+04\n",
       "==============================================================================\n",
       "\n",
       "Notes:\n",
       "[1] Standard Errors assume that the covariance matrix of the errors is correctly specified.\n",
       "[2] The condition number is large, 3.65e+04. This might indicate that there are\n",
       "strong multicollinearity or other numerical problems.\n",
       "\"\"\""
      ]
     },
     "execution_count": 666,
     "metadata": {},
     "output_type": "execute_result"
    }
   ],
   "source": [
    "#build initial model again in statsmodels\n",
    "import statsmodels.api as sm\n",
    "\n",
    "X_fin = X[result]\n",
    "X_with_intercept = sm.add_constant(X_fin)\n",
    "model = sm.OLS(y,X_with_intercept).fit()\n",
    "model.summary()"
   ]
  },
  {
   "cell_type": "code",
   "execution_count": 667,
   "metadata": {
    "scrolled": false
   },
   "outputs": [
    {
     "data": {
      "text/plain": [
       "array([False,  True,  True, False, False,  True,  True,  True,  True,\n",
       "        True,  True,  True,  True, False,  True, False,  True,  True,\n",
       "        True,  True,  True,  True,  True,  True,  True, False])"
      ]
     },
     "execution_count": 667,
     "metadata": {},
     "output_type": "execute_result"
    }
   ],
   "source": [
    "#feature ranking with recursive feature elimination\n",
    "from sklearn.feature_selection import RFE\n",
    "from sklearn.linear_model import LinearRegression\n",
    "\n",
    "linreg = LinearRegression()\n",
    "selector = RFE(linreg, n_features_to_select = 20)\n",
    "\n",
    "#convert y to 1d np array to prevent DataConversionWarning\n",
    "selector = selector.fit(X, y.values.ravel()) \n",
    "selector.support_"
   ]
  },
  {
   "cell_type": "code",
   "execution_count": 668,
   "metadata": {},
   "outputs": [
    {
     "data": {
      "text/plain": [
       "LinearRegression()"
      ]
     },
     "execution_count": 668,
     "metadata": {},
     "output_type": "execute_result"
    }
   ],
   "source": [
    "#fit the linear regression model again using the 5 selected columns\n",
    "selected_columns = X.columns[selector.support_ ]\n",
    "linreg.fit(X[selected_columns],y)"
   ]
  },
  {
   "cell_type": "code",
   "execution_count": 669,
   "metadata": {
    "scrolled": true
   },
   "outputs": [
    {
     "data": {
      "text/plain": [
       "array([ 88382.92944456, 762012.67203424, 475217.9314924 , ...,\n",
       "       229272.40874398, 523093.64408295, 224291.81055944])"
      ]
     },
     "execution_count": 669,
     "metadata": {},
     "output_type": "execute_result"
    }
   ],
   "source": [
    "#predict yhat using our model\n",
    "yhat = linreg.predict(X[selected_columns])\n",
    "yhat"
   ]
  },
  {
   "cell_type": "code",
   "execution_count": 670,
   "metadata": {
    "scrolled": true
   },
   "outputs": [
    {
     "name": "stdout",
     "output_type": "stream",
     "text": [
      "r_squared: 0.6346070320421819\n",
      "adjusted_r_squared: 0.6342624517253601\n"
     ]
    }
   ],
   "source": [
    "#compute r-squared and contrast them with the r-squared (0.693) and adjusted r-squared (0.693) in our statsmodels output using stepwise selection\n",
    "SS_Residual = np.sum((y-yhat)**2)\n",
    "SS_Total = np.sum((y-np.mean(y))**2)\n",
    "r_squared = 1 - (float(SS_Residual))/SS_Total\n",
    "adjusted_r_squared = 1 - (1-r_squared)*(len(y)-1)/(len(y)-X[selected_columns].shape[1]-1)\n",
    "\n",
    "print('r_squared:', r_squared)\n",
    "print('adjusted_r_squared:', adjusted_r_squared)"
   ]
  },
  {
   "cell_type": "markdown",
   "metadata": {},
   "source": [
    "Our r_squared and adjusted_r_squared are very very similar in both cases: 69% of the dataset's variation from the mean can be explained by our model."
   ]
  },
  {
   "cell_type": "code",
   "execution_count": 671,
   "metadata": {
    "scrolled": true
   },
   "outputs": [
    {
     "data": {
      "text/plain": [
       "-816024.2509118919"
      ]
     },
     "execution_count": 671,
     "metadata": {},
     "output_type": "execute_result"
    }
   ],
   "source": [
    "#get intercept\n",
    "linreg.intercept_"
   ]
  },
  {
   "cell_type": "code",
   "execution_count": 672,
   "metadata": {
    "scrolled": true
   },
   "outputs": [
    {
     "data": {
      "text/plain": [
       "{'bedrooms': 68081.35759340865,\n",
       " 'bathrooms': 164135.97276425746,\n",
       " 'grade': 23246.493464843763,\n",
       " 'sqft_above': 131694.74711705156,\n",
       " 'sqft_living15': 102853.50220969498,\n",
       " 'basement': 48810.04811409723,\n",
       " 'renovation': 145636.77546558075,\n",
       " 'zip_A': -129314.04104721856,\n",
       " 'zip_B': -64467.77615906771,\n",
       " 'zip_C': -176643.3208756729,\n",
       " 'zip_D': -125790.08745572701,\n",
       " 'zip_E': 65693.02994278267,\n",
       " 'zip_F': -28967.76865474608,\n",
       " 'zip_G': 137094.42592327553,\n",
       " 'zip_H': -124719.36694750242,\n",
       " 'zip_I': 108179.32529974621,\n",
       " 'floors_1.5': 779990.0585478959,\n",
       " 'floors_2.0': -52513.725127039375,\n",
       " 'floors_2.5': -107268.73112827614,\n",
       " 'floors_3.0': -51890.980213455034}"
      ]
     },
     "execution_count": 672,
     "metadata": {},
     "output_type": "execute_result"
    }
   ],
   "source": [
    "#get coefficient\n",
    "coefficients = dict(zip(X,list(linreg.coef_)))\n",
    "coefficients"
   ]
  },
  {
   "cell_type": "markdown",
   "metadata": {},
   "source": [
    "**Features that add values:**\n",
    "bedrooms, bathrooms, grade, sqft_above, sqft_basement, floors 1-2\n",
    "\n",
    "**Features that lower values:**\n",
    "sqft_living15, floors 2.5-3.5"
   ]
  },
  {
   "cell_type": "code",
   "execution_count": 673,
   "metadata": {
    "scrolled": false
   },
   "outputs": [
    {
     "data": {
      "text/plain": [
       "['1 Bedrooms: +$0.0',\n",
       " '2 Bedrooms: +$47190.0',\n",
       " '3 Bedrooms: +$74795.0',\n",
       " '4 Bedrooms: +$94381.0',\n",
       " '5 Bedrooms: +$109573.0']"
      ]
     },
     "execution_count": 673,
     "metadata": {},
     "output_type": "execute_result"
    }
   ],
   "source": [
    "['{} Bedrooms: +${}'.format(i, round(coefficients['bedrooms'] * np.log(i), 0))\n",
    " for i in range(1, 6)]"
   ]
  },
  {
   "cell_type": "code",
   "execution_count": 674,
   "metadata": {},
   "outputs": [
    {
     "data": {
      "text/plain": [
       "['1 Bathrooms: +$0.0',\n",
       " '2 Bathrooms: +$113770.0',\n",
       " '3 Bathrooms: +$180322.0',\n",
       " '4 Bathrooms: +$227541.0',\n",
       " '5 Bathrooms: +$264167.0']"
      ]
     },
     "execution_count": 674,
     "metadata": {},
     "output_type": "execute_result"
    }
   ],
   "source": [
    "['{} Bathrooms: +${}'.format(i, round(coefficients['bathrooms'] * np.log(i), 0))\n",
    " for i in range(1, 6)]"
   ]
  },
  {
   "cell_type": "code",
   "execution_count": 675,
   "metadata": {
    "scrolled": true
   },
   "outputs": [
    {
     "data": {
      "text/plain": [
       "['Grade 1: +$0.0',\n",
       " 'Grade 2: +$16113.0',\n",
       " 'Grade 3: +$25539.0',\n",
       " 'Grade 4: +$32226.0',\n",
       " 'Grade 5: +$37414.0']"
      ]
     },
     "execution_count": 675,
     "metadata": {},
     "output_type": "execute_result"
    }
   ],
   "source": [
    "['Grade {}: +${}'.format(i, round(coefficients['grade'] * np.log(i), 0))\n",
    " for i in range(1, 6)]"
   ]
  },
  {
   "cell_type": "code",
   "execution_count": 676,
   "metadata": {
    "scrolled": false
   },
   "outputs": [
    {
     "data": {
      "text/plain": [
       "['Square Footage Above 1: +$0.0',\n",
       " 'Square Footage Above 2: +$91284.0',\n",
       " 'Square Footage Above 3: +$144681.0',\n",
       " 'Square Footage Above 4: +$182568.0',\n",
       " 'Square Footage Above 5: +$211955.0']"
      ]
     },
     "execution_count": 676,
     "metadata": {},
     "output_type": "execute_result"
    }
   ],
   "source": [
    "['Square Footage Above {}: +${}'.format(i, round(coefficients['sqft_above'] * np.log(i), 0))\n",
    " for i in range(1, 6)]"
   ]
  },
  {
   "cell_type": "code",
   "execution_count": 677,
   "metadata": {
    "scrolled": false
   },
   "outputs": [
    {
     "data": {
      "text/plain": [
       "['Floors 1: +$0.0',\n",
       " 'Floors 2: +$540648.0',\n",
       " 'Floors 3: +$856907.0',\n",
       " 'Floors 4: +$1081296.0',\n",
       " 'Floors 5: +$1255346.0']"
      ]
     },
     "execution_count": 677,
     "metadata": {},
     "output_type": "execute_result"
    }
   ],
   "source": [
    "['Floors {}: +${}'.format(i, round(coefficients['floors_1.5'] * np.log(i), 0))\n",
    " for i in range(1, 6)]"
   ]
  },
  {
   "cell_type": "markdown",
   "metadata": {},
   "source": [
    "## Test Initial Model"
   ]
  },
  {
   "cell_type": "code",
   "execution_count": 678,
   "metadata": {},
   "outputs": [
    {
     "data": {
      "text/plain": [
       "LinearRegression()"
      ]
     },
     "execution_count": 678,
     "metadata": {},
     "output_type": "execute_result"
    }
   ],
   "source": [
    "#fit the linear regression model again using the selected columns\n",
    "selected_columns = X.columns[selector.support_ ]\n",
    "linreg.fit(X[selected_columns],y)"
   ]
  },
  {
   "cell_type": "code",
   "execution_count": 679,
   "metadata": {},
   "outputs": [],
   "source": [
    "#predict yhat using our model\n",
    "yhat = linreg.predict(X[selected_columns])"
   ]
  },
  {
   "cell_type": "code",
   "execution_count": 680,
   "metadata": {
    "scrolled": false
   },
   "outputs": [
    {
     "data": {
      "text/html": [
       "<div>\n",
       "<style scoped>\n",
       "    .dataframe tbody tr th:only-of-type {\n",
       "        vertical-align: middle;\n",
       "    }\n",
       "\n",
       "    .dataframe tbody tr th {\n",
       "        vertical-align: top;\n",
       "    }\n",
       "\n",
       "    .dataframe thead th {\n",
       "        text-align: right;\n",
       "    }\n",
       "</style>\n",
       "<table border=\"1\" class=\"dataframe\">\n",
       "  <thead>\n",
       "    <tr style=\"text-align: right;\">\n",
       "      <th></th>\n",
       "      <th>bathrooms</th>\n",
       "      <th>grade</th>\n",
       "      <th>basement</th>\n",
       "      <th>renovation</th>\n",
       "      <th>zip_A</th>\n",
       "      <th>zip_B</th>\n",
       "      <th>zip_C</th>\n",
       "      <th>zip_D</th>\n",
       "      <th>zip_E</th>\n",
       "      <th>zip_F</th>\n",
       "      <th>zip_H</th>\n",
       "      <th>floors_1.5</th>\n",
       "      <th>floors_2.0</th>\n",
       "      <th>floors_2.5</th>\n",
       "      <th>floors_3.0</th>\n",
       "      <th>floors_3.5</th>\n",
       "      <th>water_1.0</th>\n",
       "      <th>cond_2.0</th>\n",
       "      <th>cond_3.0</th>\n",
       "      <th>cond_4.0</th>\n",
       "    </tr>\n",
       "  </thead>\n",
       "  <tbody>\n",
       "    <tr>\n",
       "      <th>15937</th>\n",
       "      <td>1.00</td>\n",
       "      <td>6</td>\n",
       "      <td>1</td>\n",
       "      <td>0</td>\n",
       "      <td>0</td>\n",
       "      <td>0</td>\n",
       "      <td>0</td>\n",
       "      <td>0</td>\n",
       "      <td>1</td>\n",
       "      <td>0</td>\n",
       "      <td>0</td>\n",
       "      <td>0</td>\n",
       "      <td>0</td>\n",
       "      <td>0</td>\n",
       "      <td>0</td>\n",
       "      <td>0</td>\n",
       "      <td>0</td>\n",
       "      <td>0</td>\n",
       "      <td>1</td>\n",
       "      <td>0</td>\n",
       "    </tr>\n",
       "    <tr>\n",
       "      <th>20963</th>\n",
       "      <td>1.75</td>\n",
       "      <td>9</td>\n",
       "      <td>1</td>\n",
       "      <td>0</td>\n",
       "      <td>0</td>\n",
       "      <td>0</td>\n",
       "      <td>0</td>\n",
       "      <td>0</td>\n",
       "      <td>0</td>\n",
       "      <td>0</td>\n",
       "      <td>0</td>\n",
       "      <td>1</td>\n",
       "      <td>0</td>\n",
       "      <td>0</td>\n",
       "      <td>0</td>\n",
       "      <td>0</td>\n",
       "      <td>0</td>\n",
       "      <td>0</td>\n",
       "      <td>1</td>\n",
       "      <td>0</td>\n",
       "    </tr>\n",
       "    <tr>\n",
       "      <th>7614</th>\n",
       "      <td>1.00</td>\n",
       "      <td>7</td>\n",
       "      <td>1</td>\n",
       "      <td>0</td>\n",
       "      <td>1</td>\n",
       "      <td>0</td>\n",
       "      <td>0</td>\n",
       "      <td>0</td>\n",
       "      <td>0</td>\n",
       "      <td>0</td>\n",
       "      <td>0</td>\n",
       "      <td>0</td>\n",
       "      <td>0</td>\n",
       "      <td>0</td>\n",
       "      <td>0</td>\n",
       "      <td>0</td>\n",
       "      <td>0</td>\n",
       "      <td>0</td>\n",
       "      <td>0</td>\n",
       "      <td>1</td>\n",
       "    </tr>\n",
       "    <tr>\n",
       "      <th>3257</th>\n",
       "      <td>1.00</td>\n",
       "      <td>7</td>\n",
       "      <td>1</td>\n",
       "      <td>0</td>\n",
       "      <td>1</td>\n",
       "      <td>0</td>\n",
       "      <td>0</td>\n",
       "      <td>0</td>\n",
       "      <td>0</td>\n",
       "      <td>0</td>\n",
       "      <td>0</td>\n",
       "      <td>0</td>\n",
       "      <td>0</td>\n",
       "      <td>0</td>\n",
       "      <td>0</td>\n",
       "      <td>0</td>\n",
       "      <td>0</td>\n",
       "      <td>0</td>\n",
       "      <td>0</td>\n",
       "      <td>0</td>\n",
       "    </tr>\n",
       "    <tr>\n",
       "      <th>16723</th>\n",
       "      <td>2.00</td>\n",
       "      <td>7</td>\n",
       "      <td>0</td>\n",
       "      <td>0</td>\n",
       "      <td>1</td>\n",
       "      <td>0</td>\n",
       "      <td>0</td>\n",
       "      <td>0</td>\n",
       "      <td>0</td>\n",
       "      <td>0</td>\n",
       "      <td>0</td>\n",
       "      <td>1</td>\n",
       "      <td>0</td>\n",
       "      <td>0</td>\n",
       "      <td>0</td>\n",
       "      <td>0</td>\n",
       "      <td>0</td>\n",
       "      <td>0</td>\n",
       "      <td>1</td>\n",
       "      <td>0</td>\n",
       "    </tr>\n",
       "    <tr>\n",
       "      <th>...</th>\n",
       "      <td>...</td>\n",
       "      <td>...</td>\n",
       "      <td>...</td>\n",
       "      <td>...</td>\n",
       "      <td>...</td>\n",
       "      <td>...</td>\n",
       "      <td>...</td>\n",
       "      <td>...</td>\n",
       "      <td>...</td>\n",
       "      <td>...</td>\n",
       "      <td>...</td>\n",
       "      <td>...</td>\n",
       "      <td>...</td>\n",
       "      <td>...</td>\n",
       "      <td>...</td>\n",
       "      <td>...</td>\n",
       "      <td>...</td>\n",
       "      <td>...</td>\n",
       "      <td>...</td>\n",
       "      <td>...</td>\n",
       "    </tr>\n",
       "    <tr>\n",
       "      <th>3553</th>\n",
       "      <td>2.00</td>\n",
       "      <td>7</td>\n",
       "      <td>1</td>\n",
       "      <td>1</td>\n",
       "      <td>1</td>\n",
       "      <td>0</td>\n",
       "      <td>0</td>\n",
       "      <td>0</td>\n",
       "      <td>0</td>\n",
       "      <td>0</td>\n",
       "      <td>0</td>\n",
       "      <td>0</td>\n",
       "      <td>0</td>\n",
       "      <td>0</td>\n",
       "      <td>0</td>\n",
       "      <td>0</td>\n",
       "      <td>0</td>\n",
       "      <td>0</td>\n",
       "      <td>1</td>\n",
       "      <td>0</td>\n",
       "    </tr>\n",
       "    <tr>\n",
       "      <th>8800</th>\n",
       "      <td>1.00</td>\n",
       "      <td>6</td>\n",
       "      <td>1</td>\n",
       "      <td>0</td>\n",
       "      <td>0</td>\n",
       "      <td>0</td>\n",
       "      <td>0</td>\n",
       "      <td>0</td>\n",
       "      <td>1</td>\n",
       "      <td>0</td>\n",
       "      <td>0</td>\n",
       "      <td>1</td>\n",
       "      <td>0</td>\n",
       "      <td>0</td>\n",
       "      <td>0</td>\n",
       "      <td>0</td>\n",
       "      <td>0</td>\n",
       "      <td>0</td>\n",
       "      <td>0</td>\n",
       "      <td>1</td>\n",
       "    </tr>\n",
       "    <tr>\n",
       "      <th>8404</th>\n",
       "      <td>1.00</td>\n",
       "      <td>7</td>\n",
       "      <td>0</td>\n",
       "      <td>0</td>\n",
       "      <td>0</td>\n",
       "      <td>0</td>\n",
       "      <td>0</td>\n",
       "      <td>0</td>\n",
       "      <td>1</td>\n",
       "      <td>0</td>\n",
       "      <td>0</td>\n",
       "      <td>0</td>\n",
       "      <td>0</td>\n",
       "      <td>0</td>\n",
       "      <td>0</td>\n",
       "      <td>0</td>\n",
       "      <td>0</td>\n",
       "      <td>0</td>\n",
       "      <td>1</td>\n",
       "      <td>0</td>\n",
       "    </tr>\n",
       "    <tr>\n",
       "      <th>6729</th>\n",
       "      <td>1.75</td>\n",
       "      <td>8</td>\n",
       "      <td>1</td>\n",
       "      <td>0</td>\n",
       "      <td>0</td>\n",
       "      <td>0</td>\n",
       "      <td>0</td>\n",
       "      <td>0</td>\n",
       "      <td>1</td>\n",
       "      <td>0</td>\n",
       "      <td>0</td>\n",
       "      <td>0</td>\n",
       "      <td>0</td>\n",
       "      <td>0</td>\n",
       "      <td>0</td>\n",
       "      <td>0</td>\n",
       "      <td>0</td>\n",
       "      <td>0</td>\n",
       "      <td>0</td>\n",
       "      <td>1</td>\n",
       "    </tr>\n",
       "    <tr>\n",
       "      <th>2495</th>\n",
       "      <td>3.00</td>\n",
       "      <td>7</td>\n",
       "      <td>0</td>\n",
       "      <td>0</td>\n",
       "      <td>0</td>\n",
       "      <td>0</td>\n",
       "      <td>0</td>\n",
       "      <td>0</td>\n",
       "      <td>0</td>\n",
       "      <td>1</td>\n",
       "      <td>0</td>\n",
       "      <td>0</td>\n",
       "      <td>1</td>\n",
       "      <td>0</td>\n",
       "      <td>0</td>\n",
       "      <td>0</td>\n",
       "      <td>0</td>\n",
       "      <td>0</td>\n",
       "      <td>1</td>\n",
       "      <td>0</td>\n",
       "    </tr>\n",
       "  </tbody>\n",
       "</table>\n",
       "<p>21229 rows × 20 columns</p>\n",
       "</div>"
      ],
      "text/plain": [
       "       bathrooms  grade  basement  renovation  zip_A  zip_B  zip_C  zip_D  \\\n",
       "15937       1.00      6         1           0      0      0      0      0   \n",
       "20963       1.75      9         1           0      0      0      0      0   \n",
       "7614        1.00      7         1           0      1      0      0      0   \n",
       "3257        1.00      7         1           0      1      0      0      0   \n",
       "16723       2.00      7         0           0      1      0      0      0   \n",
       "...          ...    ...       ...         ...    ...    ...    ...    ...   \n",
       "3553        2.00      7         1           1      1      0      0      0   \n",
       "8800        1.00      6         1           0      0      0      0      0   \n",
       "8404        1.00      7         0           0      0      0      0      0   \n",
       "6729        1.75      8         1           0      0      0      0      0   \n",
       "2495        3.00      7         0           0      0      0      0      0   \n",
       "\n",
       "       zip_E  zip_F  zip_H  floors_1.5  floors_2.0  floors_2.5  floors_3.0  \\\n",
       "15937      1      0      0           0           0           0           0   \n",
       "20963      0      0      0           1           0           0           0   \n",
       "7614       0      0      0           0           0           0           0   \n",
       "3257       0      0      0           0           0           0           0   \n",
       "16723      0      0      0           1           0           0           0   \n",
       "...      ...    ...    ...         ...         ...         ...         ...   \n",
       "3553       0      0      0           0           0           0           0   \n",
       "8800       1      0      0           1           0           0           0   \n",
       "8404       1      0      0           0           0           0           0   \n",
       "6729       1      0      0           0           0           0           0   \n",
       "2495       0      1      0           0           1           0           0   \n",
       "\n",
       "       floors_3.5  water_1.0  cond_2.0  cond_3.0  cond_4.0  \n",
       "15937           0          0         0         1         0  \n",
       "20963           0          0         0         1         0  \n",
       "7614            0          0         0         0         1  \n",
       "3257            0          0         0         0         0  \n",
       "16723           0          0         0         1         0  \n",
       "...           ...        ...       ...       ...       ...  \n",
       "3553            0          0         0         1         0  \n",
       "8800            0          0         0         0         1  \n",
       "8404            0          0         0         1         0  \n",
       "6729            0          0         0         0         1  \n",
       "2495            0          0         0         1         0  \n",
       "\n",
       "[21229 rows x 20 columns]"
      ]
     },
     "execution_count": 680,
     "metadata": {},
     "output_type": "execute_result"
    }
   ],
   "source": [
    "#check out selected columns/ features\n",
    "X[selected_columns]"
   ]
  },
  {
   "cell_type": "code",
   "execution_count": 681,
   "metadata": {
    "scrolled": false
   },
   "outputs": [
    {
     "data": {
      "image/png": "[encoded data removed]",
      "text/plain": [
       "<Figure size 576x576 with 1 Axes>"
      ]
     },
     "metadata": {},
     "output_type": "display_data"
    }
   ],
   "source": [
    "plt.figure(figsize = (8,8))\n",
    "plt.scatter(yhat, y, s = 2, alpha = 0.3)\n",
    "plt.plot([0,1000000], [0,1000000], color = 'red', ls = '--')\n",
    "\n",
    "plt.xlim(0,1000000)\n",
    "plt.ylim(0,1000000)\n",
    "\n",
    "#set label\n",
    "plt.title('Model Predictions vs. Actual Sale Prices')\n",
    "plt.xlabel('Model Prediction')\n",
    "plt.ylabel('Actual Value');"
   ]
  },
  {
   "cell_type": "markdown",
   "metadata": {},
   "source": [
    "## Validate Initial Model"
   ]
  },
  {
   "cell_type": "markdown",
   "metadata": {},
   "source": [
    "In order to get a good sense of how well your model will be doing on new instances, you'll have to perform a so-called \"train-test-split\". What you'll be doing here, is take a sample of the data that serves as input to \"train\" our model - fit a linear regression and compute the parameter estimates for our variables, and calculate how well our predictive performance is doing comparing the actual targets y and the fitted yhat obtained by our model.\n",
    "\n",
    "* Underfitting happens when a model cannot learn the training data, nor can it generalize to new data.\n",
    "* Overfitting happens when a model learns the training data too well. In fact, so well that it is not generalizeable to new data"
   ]
  },
  {
   "cell_type": "code",
   "execution_count": 682,
   "metadata": {},
   "outputs": [
    {
     "name": "stdout",
     "output_type": "stream",
     "text": [
      "15921 15921 5308 5308\n"
     ]
    }
   ],
   "source": [
    "#split the data into training and test sets. Use the default split size\n",
    "from sklearn.model_selection import train_test_split\n",
    "\n",
    "X_train, X_test, y_train, y_test = train_test_split(X, y)\n",
    "print(len(X_train), len(y_train), len(X_test), len(y_test))"
   ]
  },
  {
   "cell_type": "code",
   "execution_count": 683,
   "metadata": {},
   "outputs": [],
   "source": [
    "#import and initialize the linear regression model class\n",
    "from sklearn.linear_model import LinearRegression\n",
    "\n",
    "linreg = LinearRegression()"
   ]
  },
  {
   "cell_type": "code",
   "execution_count": 684,
   "metadata": {},
   "outputs": [
    {
     "data": {
      "text/plain": [
       "LinearRegression()"
      ]
     },
     "execution_count": 684,
     "metadata": {},
     "output_type": "execute_result"
    }
   ],
   "source": [
    "#fit the model to train data\n",
    "linreg.fit(X_train, y_train)"
   ]
  },
  {
   "cell_type": "code",
   "execution_count": 685,
   "metadata": {},
   "outputs": [],
   "source": [
    "#calculate predictions on training and test sets\n",
    "y_hat_train = linreg.predict(X_train)\n",
    "y_hat_test = linreg.predict(X_test)"
   ]
  },
  {
   "cell_type": "markdown",
   "metadata": {},
   "source": [
    "To evaluate the model, we compare our predicted values, yhat with the actual value 𝑦 . The difference between the two values is referred to as the residuals. We'll compare our residuals for both test set and training set. To get a summarized measure over all the instances in the test set and training set, a popular metric is the RME (Root Mean Squared Error). A big difference in value between the test and training set (R)MSE is an indication of overfitting."
   ]
  },
  {
   "cell_type": "code",
   "execution_count": 686,
   "metadata": {},
   "outputs": [],
   "source": [
    "#calculate residuals\n",
    "train_residual = y_hat_train - y_train\n",
    "test_residual = y_hat_test - y_test"
   ]
  },
  {
   "cell_type": "code",
   "execution_count": 687,
   "metadata": {},
   "outputs": [
    {
     "name": "stdout",
     "output_type": "stream",
     "text": [
      "35153161212.01078\n",
      "31033846710.487694\n"
     ]
    }
   ],
   "source": [
    "#calculate training and test MSE\n",
    "from sklearn.metrics import mean_squared_error\n",
    "\n",
    "train_mse = mean_squared_error(y_train, y_hat_train)\n",
    "test_mse = mean_squared_error(y_test, y_hat_test)\n",
    "\n",
    "print(train_mse)\n",
    "print(test_mse)"
   ]
  },
  {
   "cell_type": "markdown",
   "metadata": {},
   "source": [
    "Our (R)MSE of train set and test set are quite similar, we  did not overfit the model."
   ]
  },
  {
   "cell_type": "code",
   "execution_count": 688,
   "metadata": {},
   "outputs": [
    {
     "data": {
      "image/png": "[encoded data removed]",
      "text/plain": [
       "<Figure size 432x288 with 1 Axes>"
      ]
     },
     "metadata": {},
     "output_type": "display_data"
    }
   ],
   "source": [
    "#evaluating the effect of train-test split size\n",
    "import random\n",
    "random.seed(11)\n",
    "\n",
    "train_err = []\n",
    "test_err = []\n",
    "t_sizes = list(range(5,100,5))\n",
    "\n",
    "for t_size in t_sizes:\n",
    "    X_train, X_test, y_train, y_test = train_test_split(X, y, test_size=t_size/100)\n",
    "    linreg.fit(X_train, y_train)\n",
    "    y_hat_train = linreg.predict(X_train)\n",
    "    y_hat_test = linreg.predict(X_test)\n",
    "    train_err.append(mean_squared_error(y_train, y_hat_train))\n",
    "    test_err.append(mean_squared_error(y_test, y_hat_test))\n",
    "    \n",
    "plt.scatter(t_sizes, train_err, label='Training Error')\n",
    "plt.scatter(t_sizes, test_err, label='Testing Error')\n",
    "plt.legend();"
   ]
  },
  {
   "cell_type": "markdown",
   "metadata": {},
   "source": [
    "## Additional Assessments"
   ]
  },
  {
   "cell_type": "code",
   "execution_count": 689,
   "metadata": {
    "scrolled": true
   },
   "outputs": [
    {
     "data": {
      "text/plain": [
       "[('price', 3.2150608985187157),\n",
       " ('bedrooms', 1.6376560093035326),\n",
       " ('bathrooms', 2.919920643962604),\n",
       " ('grade', 3.52505209311875),\n",
       " ('sqft_above', 5.5496701861389255),\n",
       " ('sqft_living15', 3.003589600413218),\n",
       " ('basement', 1.8669353296851223),\n",
       " ('renovation', 1.0446196708022604),\n",
       " ('zip_A', 285.6552649910499),\n",
       " ('zip_B', 113.23296947436693),\n",
       " ('zip_C', 100.9057319598661),\n",
       " ('zip_D', 64.33236179426277),\n",
       " ('zip_E', 54.345003022996615),\n",
       " ('zip_F', 66.8698177151071),\n",
       " ('zip_G', 72.6542271522855),\n",
       " ('zip_H', 58.39257729754089),\n",
       " ('zip_I', 24.11696793390041),\n",
       " ('floors_1.5', 1.2169589591290275),\n",
       " ('floors_2.0', 2.292388724628394),\n",
       " ('floors_2.5', 1.0685368211835085),\n",
       " ('floors_3.0', 1.3032519908933577),\n",
       " ('floors_3.5', 1.0054089635146317),\n",
       " ('water_1.0', 1.128466026883391),\n",
       " ('cond_2.0', 6.752072153297204),\n",
       " ('cond_3.0', 174.69843057492807),\n",
       " ('cond_4.0', 149.1943399993926),\n",
       " ('cond_5.0', 56.44222902539459)]"
      ]
     },
     "execution_count": 689,
     "metadata": {},
     "output_type": "execute_result"
    }
   ],
   "source": [
    "#recheck for multicollinearity\n",
    "X = preprocessed[features]\n",
    "vif = [variance_inflation_factor(X.values, i) for i in range(X.shape[1])]\n",
    "list(zip(features, vif))"
   ]
  },
  {
   "cell_type": "code",
   "execution_count": 690,
   "metadata": {
    "scrolled": false
   },
   "outputs": [
    {
     "data": {
      "image/png": "[encoded data removed]",
      "text/plain": [
       "<Figure size 576x576 with 1 Axes>"
      ]
     },
     "metadata": {},
     "output_type": "display_data"
    }
   ],
   "source": [
    "#recheck for normality\n",
    "fig = sm.graphics.qqplot(model.resid, \n",
    "                         dist = stats.norm, \n",
    "                         line = '45', \n",
    "                         fit = True)\n",
    "fig.set_size_inches(8, 8)\n",
    "\n",
    "#set labels\n",
    "plt.title('Residuals QQPlot')\n",
    "\n",
    "#show\n",
    "plt.show()"
   ]
  },
  {
   "cell_type": "markdown",
   "metadata": {},
   "source": [
    "Since majority of our data points did not fall along a straight line in this QQ-plot, we failed the normality assumption."
   ]
  },
  {
   "cell_type": "code",
   "execution_count": 691,
   "metadata": {
    "scrolled": false
   },
   "outputs": [
    {
     "data": {
      "image/png": "[encoded data removed]",
      "text/plain": [
       "<Figure size 576x576 with 1 Axes>"
      ]
     },
     "metadata": {},
     "output_type": "display_data"
    }
   ],
   "source": [
    "#recheck for homoscedasticity\n",
    "plt.figure(figsize = (8, 8))\n",
    "sns.regplot(x = model.predict(), \n",
    "            y = model.resid, \n",
    "            lowess = True, \n",
    "            line_kws = {'color': 'red'})\n",
    "\n",
    "#set labels\n",
    "plt.title('Residuals Scatterplot')\n",
    "plt.xlabel('Predict')\n",
    "plt.ylabel('Actual')\n",
    "\n",
    "#show\n",
    "plt.show()"
   ]
  },
  {
   "cell_type": "markdown",
   "metadata": {},
   "source": [
    "We can see that the points do not have a roughly symmetrical blob-like shape that is consistent across the x-axis. We failed homoscedascity test."
   ]
  },
  {
   "cell_type": "markdown",
   "metadata": {},
   "source": [
    "## K-Fold Cross Validation"
   ]
  },
  {
   "cell_type": "markdown",
   "metadata": {},
   "source": [
    "In order to deal with the issues that random sampling can introduce into interpreting the quality of our models, we'll use a more advanced technique called K-Fold Cross Validation. The downside of the train test split is that every time we do a split we obtain a slighlty different result. That's where doing Cross-Validation has a big advantage because with it we're doing a multiple split test and getting the average value from it"
   ]
  },
  {
   "cell_type": "markdown",
   "metadata": {},
   "source": [
    "K-Fold Cross Validation expands on the idea of training and test splits by splitting the entire dataset into {K} equal sections of data. We'll then iteratively train {K} linear regression models on the data, with each linear model using a different section of data as the test set, and all other sections combined as the training set.\n",
    "\n",
    "We can then average the individual results frome each of these linear models to get a Cross-Validation MSE. This will be closer to the model's actual MSE, since \"noisy\" results that are higher than average will cancel out the \"noisy\" results that are lower than average."
   ]
  },
  {
   "cell_type": "code",
   "execution_count": 692,
   "metadata": {},
   "outputs": [
    {
     "data": {
      "text/plain": [
       "array([1.34329460e-20, 5.71797065e-21, 9.11307800e-22, 1.71718491e-20,\n",
       "       8.83405539e-22, 1.26043485e-20, 8.12354422e-21, 6.17178101e-20,\n",
       "       1.84399073e-20, 4.10960456e-21, 6.79818678e-21, 1.21315048e-20,\n",
       "       7.05553532e-20, 1.35425621e-20, 6.82459428e-21, 2.95146139e-20,\n",
       "       5.97805959e-21, 5.48678048e-21, 3.24044910e-20, 5.86371014e-20,\n",
       "       2.68858223e-21, 9.57147230e-22, 2.66167647e-21, 1.15993688e-20,\n",
       "       2.33382490e-21, 3.52669641e-20, 2.03651633e-20, 5.66216613e-21,\n",
       "       4.77009096e-20, 3.20853683e-20, 7.38756566e-21, 1.70055848e-21,\n",
       "       1.97314727e-20, 1.22949629e-20, 1.51876603e-21, 7.69970929e-21,\n",
       "       6.62094091e-21, 8.78796683e-21, 7.43351320e-21, 3.52142960e-20,\n",
       "       8.89434538e-21, 2.59398846e-20, 3.35941458e-20, 3.80465625e-21,\n",
       "       1.55672270e-21, 5.83918344e-20, 3.57746563e-20, 2.54988881e-20,\n",
       "       1.18404818e-20, 2.01130371e-20])"
      ]
     },
     "execution_count": 692,
     "metadata": {},
     "output_type": "execute_result"
    }
   ],
   "source": [
    "#cross-validation to check for overfitting\n",
    "from sklearn.metrics import mean_squared_error, make_scorer\n",
    "from sklearn.model_selection import cross_val_score\n",
    "\n",
    "#get the mean squared error\n",
    "mse = make_scorer(mean_squared_error)\n",
    "\n",
    "cv_result = cross_val_score(linreg, X, y, cv = 50, scoring = mse)\n",
    "cv_result"
   ]
  },
  {
   "cell_type": "code",
   "execution_count": 693,
   "metadata": {
    "scrolled": true
   },
   "outputs": [
    {
     "data": {
      "text/plain": [
       "1.7602110334465684e-20"
      ]
     },
     "execution_count": 693,
     "metadata": {},
     "output_type": "execute_result"
    }
   ],
   "source": [
    "cv_result.mean()"
   ]
  },
  {
   "cell_type": "code",
   "execution_count": 694,
   "metadata": {},
   "outputs": [
    {
     "data": {
      "image/png": "[encoded data removed]",
      "text/plain": [
       "<Figure size 576x576 with 1 Axes>"
      ]
     },
     "metadata": {},
     "output_type": "display_data"
    }
   ],
   "source": [
    "#visualize the cv_result\n",
    "\n",
    "folds = 50\n",
    "plt.figure(figsize = (8, 8))\n",
    "plt.hist(cv_result, bins = 20);\n",
    "\n",
    "#set labels\n",
    "plt.title('Histogram of MSEs with {} folds (each containing {} observations)'\n",
    "          .format(folds, round(len(preprocessed) / folds, 0)));"
   ]
  },
  {
   "cell_type": "markdown",
   "metadata": {},
   "source": [
    "The above histogram suggests that even with 50 folds, the MSE fall in a relatively narrow range. This suggests that the model is not overfitted."
   ]
  },
  {
   "cell_type": "markdown",
   "metadata": {},
   "source": [
    "## Bias-Variance Tradeoff"
   ]
  },
  {
   "cell_type": "markdown",
   "metadata": {},
   "source": [
    "* Bias arises when wrong assumptions are made when training a model. For example, an interaction effect is missed, or we didn't catch a certain polynomial relationship. Because of this, our algorithm misses the relevant relations between predictors and the target variable. Note how this is similar to underfitting!\n",
    "\n",
    "* Variance arises when a model is too sensitive to small fluctuations in the training set. When variance is high, random noise in the training data is modeled, rather than the intended outputs. This is overfitting!\n",
    "\n",
    "The balance between bias and variance is a trade-off. We can reduce the variance but then there is a risk of running a bigger bias, and vice versa. Bias is usually associated with low model complexity, variance with high model complexity. There is generally a \"sweet spot\" in-between, compromising between bias and variance."
   ]
  },
  {
   "cell_type": "code",
   "execution_count": 695,
   "metadata": {},
   "outputs": [],
   "source": [
    "# Transform with MinMaxScaler\n",
    "from sklearn.preprocessing import MinMaxScaler\n",
    "\n",
    "scaler = MinMaxScaler()\n",
    "\n",
    "# Scale the train set\n",
    "X_train_scaled = scaler.fit_transform(X_train)\n",
    "\n",
    "# Scale the test set\n",
    "X_test_scaled = scaler.transform(X_test)"
   ]
  },
  {
   "cell_type": "code",
   "execution_count": 696,
   "metadata": {},
   "outputs": [],
   "source": [
    "# Training set predictions\n",
    "lm_train_predictions = linreg.predict(X_train_scaled)\n",
    "\n",
    "# Test set predictions \n",
    "lm_test_predictions = linreg.predict(X_test_scaled)"
   ]
  },
  {
   "cell_type": "code",
   "execution_count": 697,
   "metadata": {},
   "outputs": [],
   "source": [
    "#function bias() to calculate the bias of a model's predictions given the actual data\n",
    "def bias(y, y_hat):\n",
    "    return np.mean(y_hat - y)\n",
    "\n",
    "#function variance() to calculate the variance of a model's predictions\n",
    "def variance(y_hat):\n",
    "    return np.mean([yi**2 for yi in y_hat]) - np.mean(y_hat)**2"
   ]
  },
  {
   "cell_type": "code",
   "execution_count": 698,
   "metadata": {},
   "outputs": [
    {
     "name": "stdout",
     "output_type": "stream",
     "text": [
      "Train bias: -994364.910544276 \n",
      "Train variance: 26444103637.241333\n"
     ]
    }
   ],
   "source": [
    "# Bias and variance for training set \n",
    "b = bias(y_train, lm_train_predictions) \n",
    "v = variance(lm_train_predictions) \n",
    "print('Train bias: {} \\nTrain variance: {}'.format(b, v))"
   ]
  },
  {
   "cell_type": "code",
   "execution_count": 699,
   "metadata": {
    "scrolled": true
   },
   "outputs": [
    {
     "name": "stdout",
     "output_type": "stream",
     "text": [
      "Test bias: -993071.7688844986 \n",
      "Test variance: 27644401519.24414\n"
     ]
    }
   ],
   "source": [
    "# Bias and variance for test set \n",
    "b = bias(y_test, lm_test_predictions) \n",
    "v = variance(lm_test_predictions) \n",
    "print('Test bias: {} \\nTest variance: {}'.format(b, v))"
   ]
  },
  {
   "cell_type": "markdown",
   "metadata": {},
   "source": [
    "## MODEL REFINEMENT I: \n",
    "## Apply Polynomial Regression\n",
    "\n",
    "Now it's time to determine the optimal degree of polynomial features for a model that is fit to this data. For each of second, third and fourth degrees: \n",
    "\n",
    "- Instantiate `PolynomialFeatures()` with the number of degrees \n",
    "- Fit and transform the `X_train` features \n",
    "- Instantiate and fit a linear regression model on the training data \n",
    "- Transform the test data into polynomial features \n",
    "- Use the model you built above to make predictions using the transformed test data \n",
    "- Evaluate model performance on the test data using `r2_score()` \n",
    "- In order to plot how well the model performs on the full dataset, transform `X` using `poly` \n",
    "- Use the same model (`reg_poly`) to make predictions using `X_poly` "
   ]
  },
  {
   "cell_type": "code",
   "execution_count": 700,
   "metadata": {
    "scrolled": true
   },
   "outputs": [
    {
     "name": "stdout",
     "output_type": "stream",
     "text": [
      "degree 2 0.6453735823436044\n"
     ]
    },
    {
     "ename": "ValueError",
     "evalue": "X shape does not match training shape",
     "output_type": "error",
     "traceback": [
      "\u001b[0;31m---------------------------------------------------------------------------\u001b[0m",
      "\u001b[0;31mValueError\u001b[0m                                Traceback (most recent call last)",
      "\u001b[0;32m<ipython-input-700-763ff547357d>\u001b[0m in \u001b[0;36m<module>\u001b[0;34m\u001b[0m\n\u001b[1;32m     25\u001b[0m \u001b[0;34m\u001b[0m\u001b[0m\n\u001b[1;32m     26\u001b[0m     \u001b[0;31m# Transform the full data\u001b[0m\u001b[0;34m\u001b[0m\u001b[0;34m\u001b[0m\u001b[0;34m\u001b[0m\u001b[0m\n\u001b[0;32m---> 27\u001b[0;31m     \u001b[0mX_poly\u001b[0m \u001b[0;34m=\u001b[0m \u001b[0mpoly\u001b[0m\u001b[0;34m.\u001b[0m\u001b[0mtransform\u001b[0m\u001b[0;34m(\u001b[0m\u001b[0mX\u001b[0m\u001b[0;34m)\u001b[0m\u001b[0;34m\u001b[0m\u001b[0;34m\u001b[0m\u001b[0m\n\u001b[0m\u001b[1;32m     28\u001b[0m \u001b[0;34m\u001b[0m\u001b[0m\n\u001b[1;32m     29\u001b[0m     \u001b[0;31m# Now, we want to see what the model predicts for the entire data\u001b[0m\u001b[0;34m\u001b[0m\u001b[0;34m\u001b[0m\u001b[0;34m\u001b[0m\u001b[0m\n",
      "\u001b[0;32m/opt/anaconda3/lib/python3.8/site-packages/sklearn/preprocessing/_data.py\u001b[0m in \u001b[0;36mtransform\u001b[0;34m(self, X)\u001b[0m\n\u001b[1;32m   1554\u001b[0m \u001b[0;34m\u001b[0m\u001b[0m\n\u001b[1;32m   1555\u001b[0m         \u001b[0;32mif\u001b[0m \u001b[0mn_features\u001b[0m \u001b[0;34m!=\u001b[0m \u001b[0mself\u001b[0m\u001b[0;34m.\u001b[0m\u001b[0mn_input_features_\u001b[0m\u001b[0;34m:\u001b[0m\u001b[0;34m\u001b[0m\u001b[0;34m\u001b[0m\u001b[0m\n\u001b[0;32m-> 1556\u001b[0;31m             \u001b[0;32mraise\u001b[0m \u001b[0mValueError\u001b[0m\u001b[0;34m(\u001b[0m\u001b[0;34m\"X shape does not match training shape\"\u001b[0m\u001b[0;34m)\u001b[0m\u001b[0;34m\u001b[0m\u001b[0;34m\u001b[0m\u001b[0m\n\u001b[0m\u001b[1;32m   1557\u001b[0m \u001b[0;34m\u001b[0m\u001b[0m\n\u001b[1;32m   1558\u001b[0m         \u001b[0;32mif\u001b[0m \u001b[0msparse\u001b[0m\u001b[0;34m.\u001b[0m\u001b[0misspmatrix_csr\u001b[0m\u001b[0;34m(\u001b[0m\u001b[0mX\u001b[0m\u001b[0;34m)\u001b[0m\u001b[0;34m:\u001b[0m\u001b[0;34m\u001b[0m\u001b[0;34m\u001b[0m\u001b[0m\n",
      "\u001b[0;31mValueError\u001b[0m: X shape does not match training shape"
     ]
    }
   ],
   "source": [
    "# We'll fit 3 different polynomial regression models from degree 2 to degree 4\n",
    "from sklearn.preprocessing import PolynomialFeatures\n",
    "from sklearn.linear_model import LinearRegression\n",
    "from sklearn.metrics import r2_score\n",
    "\n",
    "for index, degree in enumerate([2, 3, 4]):\n",
    "    \n",
    "    # Instantiate PolynomialFeatures\n",
    "    poly = PolynomialFeatures(degree)\n",
    "    \n",
    "    # Fit and transform X_train\n",
    "    X_poly_train = poly.fit_transform(X_train)\n",
    "    \n",
    "    # Instantiate and fit a linear regression model to the polynomial transformed train features\n",
    "    reg_poly = LinearRegression().fit(X_poly_train, y_train)\n",
    "    \n",
    "    # Transform the test data into polynomial features\n",
    "    X_poly_test = poly.fit_transform(X_test)\n",
    "    \n",
    "    # Get predicted values for transformed polynomial test data  \n",
    "    y_pred = reg_poly.predict(X_poly_test)\n",
    "    \n",
    "    # Evaluate model performance on test data\n",
    "    print(\"degree %d\" % degree, r2_score(y_test, y_pred))\n",
    "    \n",
    "    # Transform the full data\n",
    "    X_poly = poly.transform(X)\n",
    "    \n",
    "    # Now, we want to see what the model predicts for the entire data \n",
    "    y_poly = reg_poly.predict(X_poly)\n",
    "    \n",
    "    # Create plot of predicted values\n",
    "    plt.plot(X, y_poly, color = colors[index], linewidth=2, label='degree %d' % degree)\n",
    "    plt.legend(loc='lower left')"
   ]
  },
  {
   "cell_type": "markdown",
   "metadata": {},
   "source": [
    "We see that the r2 is highest ( r2=0.767) and the root mean square error is lowest (rmse=0.255) for third order polynomial .So lets add a polynomil of degree 3 to out linear regression model.It will include interactions between diffrent features and make nour model more complex.\n",
    "\n",
    "Not adding polynomials is prone to overfitting.I decided include regularization to reduce over fitting."
   ]
  },
  {
   "cell_type": "code",
   "execution_count": null,
   "metadata": {},
   "outputs": [],
   "source": [
    "#fitting the above model on test set\n",
    "est = make_pipeline(PolynomialFeatures(3,interaction_only=True), StandardScaler(), Lasso(0.0001))\n",
    "est.fit(X_train, y_train)\n",
    "est.predict(X_test)\n",
    "rmse_te_Lasso=(np.sqrt(mean_squared_error(y_test, est.predict(X_test))))\n",
    "r2_te_Lasso=(est.score(X_test,y_test))\n",
    "print(rmse_te_Lasso,r2_te_Lasso)"
   ]
  },
  {
   "cell_type": "code",
   "execution_count": null,
   "metadata": {},
   "outputs": [],
   "source": [
    "#deloffing RMSE\n",
    "rmse_test_delog=np.exp(rmse_te_Lasso)\n",
    "print(rmse_test_delog)"
   ]
  },
  {
   "cell_type": "markdown",
   "metadata": {},
   "source": [
    "The predicted values of home prices ( by this model)=Actual value of home prices +- 1.3%\n",
    "\n",
    "The root mean square error for the training and the test sets are low and almost the same (rmse_test=0.279,rmse_training=0.266).So there is no over fitting or underfitting.Adding a polynomial of degree 3 and regularizing the model with Lasso regularization controlled for underfitting and over fitting."
   ]
  },
  {
   "cell_type": "code",
   "execution_count": null,
   "metadata": {},
   "outputs": [],
   "source": [
    "#Regression plot for residuals\n",
    "\n",
    "test_pred=est.predict(X_test)\n",
    "residuals_test=y_test-test_pred\n",
    "\n",
    "plt.figure(figsize=(13,8))\n",
    "\n",
    "sns.set(style=\"whitegrid\")\n",
    "\n",
    "sns.regplot(test_pred,y_test,scatter_kws={'color':'b','alpha':0.1},color='r')\n",
    "sns.set(font_scale=1.3)\n",
    "plt.title('Predicted vs Test')\n",
    "plt.ylabel('Y_test')\n",
    "plt.xlabel('Predicted Y')"
   ]
  },
  {
   "cell_type": "code",
   "execution_count": null,
   "metadata": {},
   "outputs": [],
   "source": [
    "\n",
    "#Residual Plot\n",
    "\n",
    "sns.set(style=\"whitegrid\")\n",
    "\n",
    "\n",
    "plt.figure(figsize=(13,8))\n",
    "\n",
    "plt.scatter(test_pred ,residuals_test,alpha=0.2)\n",
    "plt.xlabel('Predicted Y (Home prices)')\n",
    "plt.ylabel('Residuals')\n",
    "plt.title(\"Residual Plot\")"
   ]
  },
  {
   "cell_type": "code",
   "execution_count": null,
   "metadata": {},
   "outputs": [],
   "source": [
    "\n",
    "#Normal Q-Q plot\n",
    "\n",
    "sns.set(style=\"whitegrid\")\n",
    "\n",
    "\n",
    "plt.figure(figsize=(13,8))\n",
    "stats.probplot(residuals_test, dist=\"norm\", plot=plt)\n",
    "plt.title(\"Normal Q-Q plot\")"
   ]
  },
  {
   "cell_type": "code",
   "execution_count": null,
   "metadata": {},
   "outputs": [],
   "source": [
    "\n",
    "sns.set(style=\"whitegrid\")\n",
    "\n",
    "\n",
    "plt.figure(figsize=(13,8))\n",
    "sns.distplot(residuals_test, bins=50, kde=True)\n",
    "plt.xlabel('Home Price')\n",
    "plt.ylabel('Residuals')\n",
    "plt.title(\"Distribution of Residuals\")"
   ]
  },
  {
   "cell_type": "markdown",
   "metadata": {},
   "source": [
    "## MODEL REFINEMENT II:\n",
    "## INTERACTIONS"
   ]
  },
  {
   "cell_type": "markdown",
   "metadata": {},
   "source": [
    "### See how interactions improve our baseline\n",
    "\n",
    "Create all possible combinations of interactions, loop over them and add them to the baseline model one by one to see how they affect the  𝑅2 . We'll look at the 3 interactions which have the biggest effect on our  𝑅2 , so print out the top 3 combinations."
   ]
  },
  {
   "cell_type": "markdown",
   "metadata": {},
   "source": [
    "**Comment:** While the p-values indicate that all of the current features are impactful, the variance inflation factor indicates that there is moderate multicollinearity between our variables. With that, it makes sense to briefly update the features once again and recheck for multicollinearity."
   ]
  },
  {
   "cell_type": "code",
   "execution_count": null,
   "metadata": {},
   "outputs": [],
   "source": [
    "regression = LinearRegression()"
   ]
  },
  {
   "cell_type": "code",
   "execution_count": null,
   "metadata": {},
   "outputs": [],
   "source": [
    "crossvalidation = KFold(n_splits = 10, shuffle = True, random_state =1)"
   ]
  },
  {
   "cell_type": "code",
   "execution_count": null,
   "metadata": {},
   "outputs": [],
   "source": [
    "baseline = np.mean(cross_val_score(regression, X, y, scoring = 'r2', cv = crossvalidation))\n",
    "baseline"
   ]
  },
  {
   "cell_type": "code",
   "execution_count": null,
   "metadata": {
    "scrolled": false
   },
   "outputs": [],
   "source": [
    "from itertools import combinations\n",
    "\n",
    "interactions = []\n",
    "\n",
    "feat_combinations = combinations(X.columns, 2)\n",
    "\n",
    "data = X.copy()\n",
    "for i, (a, b) in enumerate(feat_combinations):\n",
    "    data['interaction'] = data[a] * data[b]\n",
    "    score = np.mean(cross_val_score(regression, data, y, scoring='r2', cv=crossvalidation))\n",
    "    if score > baseline:\n",
    "        interactions.append((a, b, round(score,3)))\n",
    "    \n",
    "    if i % 50 == 0:\n",
    "        print(i)\n",
    "            \n",
    "print('Top 3 interactions: %s' %sorted(interactions, key=lambda inter: inter[2], reverse=True)[:3])"
   ]
  },
  {
   "cell_type": "markdown",
   "metadata": {},
   "source": [
    "Separate all houses that are located in Edwards and those that are not. Run a linear regression on each population against SalePrice. Visualize the regression line and data points with price on the y axis and LotArea on the x axis."
   ]
  },
  {
   "cell_type": "code",
   "execution_count": null,
   "metadata": {},
   "outputs": [],
   "source": [
    "#fig, ax = plt.subplots(figsize=(13, 10))\n",
    "\n",
    "col = 'LotArea'\n",
    "\n",
    "is_in = preprocessed.loc[preprocessed['Neighborhood_Edwards'] == 1, [col, 'SalePrice']]\n",
    "\n",
    "linreg = LinearRegression()\n",
    "linreg.fit(np.log(is_in[[col]]), np.log(is_in['SalePrice']))\n",
    "\n",
    "preds = linreg.predict(np.log(is_in[[col]]))\n",
    "\n",
    "ax.scatter(np.log(is_in[[col]]), np.log(is_in['SalePrice']), alpha=.3, label=None)\n",
    "\n",
    "x = np.linspace(6, 12)\n",
    "ax.plot(x, linreg.predict(x.reshape(-1, 1)), label=f'In Edwards:   {linreg.coef_[0]:.2f}')\n",
    "\n",
    "not_in = preprocessed.loc[preprocessed['Neighborhood_Edwards'] == 0, [col, 'SalePrice']]\n",
    "\n",
    "linreg = LinearRegression()\n",
    "linreg.fit(np.log(not_in[[col]]), np.log(not_in['SalePrice']))\n",
    "\n",
    "preds = linreg.predict(np.log(not_in[[col]]))\n",
    "\n",
    "ax.scatter(np.log(not_in[[col]]), np.log(not_in['SalePrice']), alpha=.1, label=None)\n",
    "\n",
    "x = np.linspace(6, 12)\n",
    "ax.plot(x, linreg.predict(x.reshape(-1, 1)), label=f'Outside of Edwards:   {linreg.coef_[0]:.2f}')\n",
    "\n",
    "ax.legend()"
   ]
  },
  {
   "cell_type": "code",
   "execution_count": null,
   "metadata": {},
   "outputs": [],
   "source": [
    "#use 10-fold cross-validation to build a model using the above interaction\n",
    "regression = LinearRegression()\n",
    "crossvalidation = KFold(n_splits=10, shuffle=True, random_state=1)\n",
    "final = X.copy()\n",
    "\n",
    "final['Neighborhood_Edwards*LotArea'] = final['Neighborhood_Edwards'] * final['LotArea']\n",
    "\n",
    "final_model = np.mean(cross_val_score(regression, final, y, scoring='r2', cv=crossvalidation))\n",
    "\n",
    "final_model"
   ]
  },
  {
   "cell_type": "code",
   "execution_count": null,
   "metadata": {},
   "outputs": [],
   "source": [
    "#r2has increased considerably! Let's have a look in statsmodels to see if this interactions are significant.\n",
    "import statsmodels.api as sm\n",
    "\n",
    "df_inter_sm = sm.add_constant(final)\n",
    "model = sm.OLS(y, final)\n",
    "results = model.fit()\n",
    "\n",
    "results.summary()"
   ]
  },
  {
   "cell_type": "code",
   "execution_count": null,
   "metadata": {},
   "outputs": [],
   "source": []
  }
 ],
 "metadata": {
  "kernelspec": {
   "display_name": "Python 3",
   "language": "python",
   "name": "python3"
  },
  "language_info": {
   "codemirror_mode": {
    "name": "ipython",
    "version": 3
   },
   "file_extension": ".py",
   "mimetype": "text/x-python",
   "name": "python",
   "nbconvert_exporter": "python",
   "pygments_lexer": "ipython3",
   "version": "3.8.5"
  }
 },
 "nbformat": 4,
 "nbformat_minor": 4
}
